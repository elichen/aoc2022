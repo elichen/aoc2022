{
  "nbformat": 4,
  "nbformat_minor": 0,
  "metadata": {
    "colab": {
      "provenance": [],
      "authorship_tag": "ABX9TyNDN0pM4dvBfBZGl+gkAb6H",
      "include_colab_link": true
    },
    "kernelspec": {
      "name": "python3",
      "display_name": "Python 3"
    },
    "language_info": {
      "name": "python"
    }
  },
  "cells": [
    {
      "cell_type": "markdown",
      "metadata": {
        "id": "view-in-github",
        "colab_type": "text"
      },
      "source": [
        "<a href=\"https://colab.research.google.com/github/elichen/aoc2022/blob/main/Day_11_Monkey_in_the_Middle.ipynb\" target=\"_parent\"><img src=\"https://colab.research.google.com/assets/colab-badge.svg\" alt=\"Open In Colab\"/></a>"
      ]
    },
    {
      "cell_type": "code",
      "source": [
        "import re"
      ],
      "metadata": {
        "id": "UqDxf0ecNLUG"
      },
      "execution_count": null,
      "outputs": []
    },
    {
      "cell_type": "code",
      "execution_count": null,
      "metadata": {
        "id": "oV2mqgZ5KSqL"
      },
      "outputs": [],
      "source": [
        "lines = open(\"input.txt\").readlines()\n",
        "lines = [x.strip() for x in lines]"
      ]
    },
    {
      "cell_type": "code",
      "source": [
        "# lines = '''Monkey 0:\n",
        "#   Starting items: 79, 98\n",
        "#   Operation: new = old * 19\n",
        "#   Test: divisible by 23\n",
        "#     If true: throw to monkey 2\n",
        "#     If false: throw to monkey 3\n",
        "\n",
        "# Monkey 1:\n",
        "#   Starting items: 54, 65, 75, 74\n",
        "#   Operation: new = old + 6\n",
        "#   Test: divisible by 19\n",
        "#     If true: throw to monkey 2\n",
        "#     If false: throw to monkey 0\n",
        "\n",
        "# Monkey 2:\n",
        "#   Starting items: 79, 60, 97\n",
        "#   Operation: new = old * old\n",
        "#   Test: divisible by 13\n",
        "#     If true: throw to monkey 1\n",
        "#     If false: throw to monkey 3\n",
        "\n",
        "# Monkey 3:\n",
        "#   Starting items: 74\n",
        "#   Operation: new = old + 3\n",
        "#   Test: divisible by 17\n",
        "#     If true: throw to monkey 0\n",
        "#     If false: throw to monkey 1'''\n",
        "# lines = lines.split(\"\\n\")\n",
        "# lines = [x.strip() for x in lines]"
      ],
      "metadata": {
        "id": "Tx2cJnt2LvrS"
      },
      "execution_count": null,
      "outputs": []
    },
    {
      "cell_type": "code",
      "source": [
        "monkeys = []\n",
        "i = 0\n",
        "while i < len(lines):\n",
        "  name = re.split(' |:', lines[i])[1]; i += 1\n",
        "  items = list(map(int, re.split(' |, ', lines[i])[2:])); i+= 1\n",
        "  op = re.split(' = ', lines[i])[1]; i += 1\n",
        "  test = int(re.split(' by ', lines[i])[1]); i += 1\n",
        "  t_dst = int(re.split(' monkey ', lines[i])[1]); i += 1\n",
        "  f_dst = int(re.split(' monkey ', lines[i])[1]); i += 1\n",
        "  i += 1\n",
        "  monkeys.append({\"items\":items, \"op\":op, \"test\":test, \"t_dst\":t_dst, \"f_dst\":f_dst})\n",
        "monkeys"
      ],
      "metadata": {
        "colab": {
          "base_uri": "https://localhost:8080/"
        },
        "id": "xvRj8zEEL3Ok",
        "outputId": "54f70213-28cd-4905-e1ce-ab1f591ee953"
      },
      "execution_count": null,
      "outputs": [
        {
          "output_type": "execute_result",
          "data": {
            "text/plain": [
              "[{'items': [74, 73, 57, 77, 74],\n",
              "  'op': 'old * 11',\n",
              "  'test': 19,\n",
              "  't_dst': 6,\n",
              "  'f_dst': 7},\n",
              " {'items': [99, 77, 79], 'op': 'old + 8', 'test': 2, 't_dst': 6, 'f_dst': 0},\n",
              " {'items': [64, 67, 50, 96, 89, 82, 82],\n",
              "  'op': 'old + 1',\n",
              "  'test': 3,\n",
              "  't_dst': 5,\n",
              "  'f_dst': 3},\n",
              " {'items': [88], 'op': 'old * 7', 'test': 17, 't_dst': 5, 'f_dst': 4},\n",
              " {'items': [80, 66, 98, 83, 70, 63, 57, 66],\n",
              "  'op': 'old + 4',\n",
              "  'test': 13,\n",
              "  't_dst': 0,\n",
              "  'f_dst': 1},\n",
              " {'items': [81, 93, 90, 61, 62, 64],\n",
              "  'op': 'old + 7',\n",
              "  'test': 7,\n",
              "  't_dst': 1,\n",
              "  'f_dst': 4},\n",
              " {'items': [69, 97, 88, 93],\n",
              "  'op': 'old * old',\n",
              "  'test': 5,\n",
              "  't_dst': 7,\n",
              "  'f_dst': 2},\n",
              " {'items': [59, 80], 'op': 'old + 6', 'test': 11, 't_dst': 2, 'f_dst': 3}]"
            ]
          },
          "metadata": {},
          "execution_count": 37
        }
      ]
    },
    {
      "cell_type": "code",
      "source": [
        "for _ in range(20):\n",
        "  for m in monkeys:\n",
        "    while len(m['items']):\n",
        "      item = m['items'].pop(0)\n",
        "      m['inspected'] = m.get('inspected',0)+1\n",
        "      old = item\n",
        "      new = eval(m['op'])\n",
        "      new = new // 3\n",
        "      if new % m['test'] == 0:\n",
        "        monkeys[m['t_dst']]['items'].append(new)\n",
        "      else:\n",
        "        monkeys[m['f_dst']]['items'].append(new)\n",
        "monkeys"
      ],
      "metadata": {
        "colab": {
          "base_uri": "https://localhost:8080/"
        },
        "id": "rY0IrdOFQcX-",
        "outputId": "882d510e-5da7-4544-936f-e3b4a218ac13"
      },
      "execution_count": null,
      "outputs": [
        {
          "output_type": "execute_result",
          "data": {
            "text/plain": [
              "[{'items': [5, 5, 5, 3, 3, 3, 3, 3, 3, 19],\n",
              "  'op': 'old * 11',\n",
              "  'test': 19,\n",
              "  't_dst': 6,\n",
              "  'f_dst': 7,\n",
              "  'inspected': 163},\n",
              " {'items': [64, 7, 7, 7, 7, 7, 7, 9, 5, 270023884279, 3],\n",
              "  'op': 'old + 8',\n",
              "  'test': 2,\n",
              "  't_dst': 6,\n",
              "  'f_dst': 0,\n",
              "  'inspected': 258},\n",
              " {'items': [],\n",
              "  'op': 'old + 1',\n",
              "  'test': 3,\n",
              "  't_dst': 5,\n",
              "  'f_dst': 3,\n",
              "  'inspected': 51},\n",
              " {'items': [8, 8, 8, 8, 8, 535519, 5, 5, 3, 3, 3, 3, 3, 3, 3],\n",
              "  'op': 'old * 7',\n",
              "  'test': 17,\n",
              "  't_dst': 5,\n",
              "  'f_dst': 4,\n",
              "  'inspected': 247},\n",
              " {'items': [],\n",
              "  'op': 'old + 4',\n",
              "  'test': 13,\n",
              "  't_dst': 0,\n",
              "  'f_dst': 1,\n",
              "  'inspected': 271},\n",
              " {'items': [],\n",
              "  'op': 'old + 7',\n",
              "  'test': 7,\n",
              "  't_dst': 1,\n",
              "  'f_dst': 4,\n",
              "  'inspected': 22},\n",
              " {'items': [],\n",
              "  'op': 'old * old',\n",
              "  'test': 5,\n",
              "  't_dst': 7,\n",
              "  'f_dst': 2,\n",
              "  'inspected': 105},\n",
              " {'items': [],\n",
              "  'op': 'old + 6',\n",
              "  'test': 11,\n",
              "  't_dst': 2,\n",
              "  'f_dst': 3,\n",
              "  'inspected': 229}]"
            ]
          },
          "metadata": {},
          "execution_count": 38
        }
      ]
    },
    {
      "cell_type": "code",
      "source": [
        "l = sorted([x['inspected'] for x in monkeys],reverse=True)\n",
        "l[0] * l[1]"
      ],
      "metadata": {
        "colab": {
          "base_uri": "https://localhost:8080/"
        },
        "id": "9bqxkxa3PkBk",
        "outputId": "e221511b-8359-4752-f69a-a79ae8f26028"
      },
      "execution_count": null,
      "outputs": [
        {
          "output_type": "execute_result",
          "data": {
            "text/plain": [
              "69918"
            ]
          },
          "metadata": {},
          "execution_count": 39
        }
      ]
    },
    {
      "cell_type": "code",
      "source": [
        "monkeys = []\n",
        "i = 0\n",
        "while i < len(lines):\n",
        "  name = re.split(' |:', lines[i])[1]; i += 1\n",
        "  items = list(map(int, re.split(' |, ', lines[i])[2:])); i+= 1\n",
        "  op = re.split(' = ', lines[i])[1]; i += 1\n",
        "  test = int(re.split(' by ', lines[i])[1]); i += 1\n",
        "  t_dst = int(re.split(' monkey ', lines[i])[1]); i += 1\n",
        "  f_dst = int(re.split(' monkey ', lines[i])[1]); i += 1\n",
        "  i += 1\n",
        "  monkeys.append({\"items\":items, \"op\":op, \"test\":test, \"t_dst\":t_dst, \"f_dst\":f_dst})\n",
        "monkeys"
      ],
      "metadata": {
        "colab": {
          "base_uri": "https://localhost:8080/"
        },
        "id": "YVl5Sq7VTCqP",
        "outputId": "6883486c-e96c-4445-a392-2dab6d519d37"
      },
      "execution_count": null,
      "outputs": [
        {
          "output_type": "execute_result",
          "data": {
            "text/plain": [
              "[{'items': [74, 73, 57, 77, 74],\n",
              "  'op': 'old * 11',\n",
              "  'test': 19,\n",
              "  't_dst': 6,\n",
              "  'f_dst': 7},\n",
              " {'items': [99, 77, 79], 'op': 'old + 8', 'test': 2, 't_dst': 6, 'f_dst': 0},\n",
              " {'items': [64, 67, 50, 96, 89, 82, 82],\n",
              "  'op': 'old + 1',\n",
              "  'test': 3,\n",
              "  't_dst': 5,\n",
              "  'f_dst': 3},\n",
              " {'items': [88], 'op': 'old * 7', 'test': 17, 't_dst': 5, 'f_dst': 4},\n",
              " {'items': [80, 66, 98, 83, 70, 63, 57, 66],\n",
              "  'op': 'old + 4',\n",
              "  'test': 13,\n",
              "  't_dst': 0,\n",
              "  'f_dst': 1},\n",
              " {'items': [81, 93, 90, 61, 62, 64],\n",
              "  'op': 'old + 7',\n",
              "  'test': 7,\n",
              "  't_dst': 1,\n",
              "  'f_dst': 4},\n",
              " {'items': [69, 97, 88, 93],\n",
              "  'op': 'old * old',\n",
              "  'test': 5,\n",
              "  't_dst': 7,\n",
              "  'f_dst': 2},\n",
              " {'items': [59, 80], 'op': 'old + 6', 'test': 11, 't_dst': 2, 'f_dst': 3}]"
            ]
          },
          "metadata": {},
          "execution_count": 40
        }
      ]
    },
    {
      "cell_type": "code",
      "source": [
        "tests = [x['test'] for x in monkeys]\n",
        "for m in monkeys:\n",
        "  for i in range(len(m['items'])):\n",
        "    orig = m['items'][i]\n",
        "    m['items'][i] = [orig%x for x in tests]\n",
        "monkeys"
      ],
      "metadata": {
        "colab": {
          "base_uri": "https://localhost:8080/"
        },
        "id": "CuT2dCg1hDCB",
        "outputId": "401892dd-fc78-4818-b287-0a17053d21a0"
      },
      "execution_count": null,
      "outputs": [
        {
          "output_type": "execute_result",
          "data": {
            "text/plain": [
              "[{'items': [[17, 0, 2, 6, 9, 4, 4, 8],\n",
              "   [16, 1, 1, 5, 8, 3, 3, 7],\n",
              "   [0, 1, 0, 6, 5, 1, 2, 2],\n",
              "   [1, 1, 2, 9, 12, 0, 2, 0],\n",
              "   [17, 0, 2, 6, 9, 4, 4, 8]],\n",
              "  'op': 'old * 11',\n",
              "  'test': 19,\n",
              "  't_dst': 6,\n",
              "  'f_dst': 7},\n",
              " {'items': [[4, 1, 0, 14, 8, 1, 4, 0],\n",
              "   [1, 1, 2, 9, 12, 0, 2, 0],\n",
              "   [3, 1, 1, 11, 1, 2, 4, 2]],\n",
              "  'op': 'old + 8',\n",
              "  'test': 2,\n",
              "  't_dst': 6,\n",
              "  'f_dst': 0},\n",
              " {'items': [[7, 0, 1, 13, 12, 1, 4, 9],\n",
              "   [10, 1, 1, 16, 2, 4, 2, 1],\n",
              "   [12, 0, 2, 16, 11, 1, 0, 6],\n",
              "   [1, 0, 0, 11, 5, 5, 1, 8],\n",
              "   [13, 1, 2, 4, 11, 5, 4, 1],\n",
              "   [6, 0, 1, 14, 4, 5, 2, 5],\n",
              "   [6, 0, 1, 14, 4, 5, 2, 5]],\n",
              "  'op': 'old + 1',\n",
              "  'test': 3,\n",
              "  't_dst': 5,\n",
              "  'f_dst': 3},\n",
              " {'items': [[12, 0, 1, 3, 10, 4, 3, 0]],\n",
              "  'op': 'old * 7',\n",
              "  'test': 17,\n",
              "  't_dst': 5,\n",
              "  'f_dst': 4},\n",
              " {'items': [[4, 0, 2, 12, 2, 3, 0, 3],\n",
              "   [9, 0, 0, 15, 1, 3, 1, 0],\n",
              "   [3, 0, 2, 13, 7, 0, 3, 10],\n",
              "   [7, 1, 2, 15, 5, 6, 3, 6],\n",
              "   [13, 0, 1, 2, 5, 0, 0, 4],\n",
              "   [6, 1, 0, 12, 11, 0, 3, 8],\n",
              "   [0, 1, 0, 6, 5, 1, 2, 2],\n",
              "   [9, 0, 0, 15, 1, 3, 1, 0]],\n",
              "  'op': 'old + 4',\n",
              "  'test': 13,\n",
              "  't_dst': 0,\n",
              "  'f_dst': 1},\n",
              " {'items': [[5, 1, 0, 13, 3, 4, 1, 4],\n",
              "   [17, 1, 0, 8, 2, 2, 3, 5],\n",
              "   [14, 0, 0, 5, 12, 6, 0, 2],\n",
              "   [4, 1, 1, 10, 9, 5, 1, 6],\n",
              "   [5, 0, 2, 11, 10, 6, 2, 7],\n",
              "   [7, 0, 1, 13, 12, 1, 4, 9]],\n",
              "  'op': 'old + 7',\n",
              "  'test': 7,\n",
              "  't_dst': 1,\n",
              "  'f_dst': 4},\n",
              " {'items': [[12, 1, 0, 1, 4, 6, 4, 3],\n",
              "   [2, 1, 1, 12, 6, 6, 2, 9],\n",
              "   [12, 0, 1, 3, 10, 4, 3, 0],\n",
              "   [17, 1, 0, 8, 2, 2, 3, 5]],\n",
              "  'op': 'old * old',\n",
              "  'test': 5,\n",
              "  't_dst': 7,\n",
              "  'f_dst': 2},\n",
              " {'items': [[2, 1, 2, 8, 7, 3, 4, 4], [4, 0, 2, 12, 2, 3, 0, 3]],\n",
              "  'op': 'old + 6',\n",
              "  'test': 11,\n",
              "  't_dst': 2,\n",
              "  'f_dst': 3}]"
            ]
          },
          "metadata": {},
          "execution_count": 41
        }
      ]
    },
    {
      "cell_type": "code",
      "source": [
        "for _ in range(10000):\n",
        "  for m_i in range(len(monkeys)):\n",
        "    m = monkeys[m_i]\n",
        "    while len(m['items']):\n",
        "      item = m['items'].pop(0)\n",
        "      # print(\"old\",item, tests)\n",
        "      # print(\"op\",m['op'])\n",
        "      m['inspected'] = m.get('inspected',0)+1\n",
        "      new = []\n",
        "      for i in range(len(item)):\n",
        "        old = item[i]\n",
        "        new.append(eval(m['op']) % tests[i])\n",
        "      # print(\"new\", new)\n",
        "      if new[m_i] % m['test'] == 0:\n",
        "        monkeys[m['t_dst']]['items'].append(new)\n",
        "      else:\n",
        "        monkeys[m['f_dst']]['items'].append(new)\n",
        "monkeys"
      ],
      "metadata": {
        "colab": {
          "base_uri": "https://localhost:8080/"
        },
        "id": "xGDV7jfHTDRp",
        "outputId": "de0898c1-0caa-46c4-bb04-9e4f2adb0ef4"
      },
      "execution_count": null,
      "outputs": [
        {
          "output_type": "execute_result",
          "data": {
            "text/plain": [
              "[{'items': [[1, 1, 1, 1, 4, 5, 1, 10],\n",
              "   [6, 1, 1, 1, 4, 5, 1, 10],\n",
              "   [0, 1, 2, 14, 11, 5, 2, 5],\n",
              "   [0, 1, 2, 14, 11, 5, 1, 5],\n",
              "   [0, 1, 2, 8, 6, 5, 1, 5],\n",
              "   [0, 1, 2, 14, 11, 5, 1, 5],\n",
              "   [0, 1, 2, 14, 0, 5, 1, 5],\n",
              "   [4, 1, 2, 13, 11, 5, 2, 3]],\n",
              "  'op': 'old * 11',\n",
              "  'test': 19,\n",
              "  't_dst': 6,\n",
              "  'f_dst': 7,\n",
              "  'inspected': 80160},\n",
              " {'items': [[17, 1, 2, 10, 7, 4, 0, 2],\n",
              "   [13, 1, 2, 10, 3, 4, 0, 2],\n",
              "   [11, 0, 0, 6, 11, 4, 4, 0],\n",
              "   [11, 0, 0, 1, 6, 4, 3, 0],\n",
              "   [11, 0, 0, 1, 11, 4, 3, 0],\n",
              "   [11, 0, 0, 1, 11, 4, 3, 0],\n",
              "   [11, 1, 0, 6, 3, 4, 4, 8],\n",
              "   [11, 1, 0, 6, 3, 4, 4, 8],\n",
              "   [11, 1, 0, 0, 5, 4, 3, 8],\n",
              "   [11, 1, 0, 0, 5, 4, 3, 8],\n",
              "   [3, 1, 0, 5, 3, 4, 4, 6],\n",
              "   [3, 1, 0, 5, 3, 4, 4, 6],\n",
              "   [0, 0, 0, 7, 9, 0, 1, 5],\n",
              "   [0, 0, 0, 7, 9, 0, 0, 5],\n",
              "   [6, 0, 0, 7, 8, 0, 1, 5],\n",
              "   [17, 0, 0, 7, 6, 0, 1, 5]],\n",
              "  'op': 'old + 8',\n",
              "  'test': 2,\n",
              "  't_dst': 6,\n",
              "  'f_dst': 0,\n",
              "  'inspected': 139887},\n",
              " {'items': [[0, 1, 1, 9, 0, 1, 4, 0],\n",
              "   [0, 1, 1, 1, 3, 1, 4, 0],\n",
              "   [0, 1, 1, 9, 0, 1, 1, 0],\n",
              "   [0, 1, 1, 9, 3, 1, 1, 0],\n",
              "   [0, 0, 1, 13, 1, 4, 4, 9],\n",
              "   [0, 0, 1, 13, 1, 4, 4, 9],\n",
              "   [0, 0, 1, 13, 0, 4, 1, 9],\n",
              "   [7, 0, 1, 4, 3, 1, 1, 4],\n",
              "   [4, 0, 1, 4, 9, 1, 4, 4]],\n",
              "  'op': 'old + 1',\n",
              "  'test': 3,\n",
              "  't_dst': 5,\n",
              "  'f_dst': 3,\n",
              "  'inspected': 99585},\n",
              " {'items': [[9, 1, 2, 0, 10, 5, 4, 6],\n",
              "   [10, 1, 1, 13, 10, 5, 3, 6],\n",
              "   [4, 1, 1, 13, 11, 5, 3, 6]],\n",
              "  'op': 'old * 7',\n",
              "  'test': 17,\n",
              "  't_dst': 5,\n",
              "  'f_dst': 4,\n",
              "  'inspected': 139923},\n",
              " {'items': [],\n",
              "  'op': 'old + 4',\n",
              "  'test': 13,\n",
              "  't_dst': 0,\n",
              "  'f_dst': 1,\n",
              "  'inspected': 119975},\n",
              " {'items': [],\n",
              "  'op': 'old + 7',\n",
              "  'test': 7,\n",
              "  't_dst': 1,\n",
              "  'f_dst': 4,\n",
              "  'inspected': 19972},\n",
              " {'items': [],\n",
              "  'op': 'old * old',\n",
              "  'test': 5,\n",
              "  't_dst': 7,\n",
              "  'f_dst': 2,\n",
              "  'inspected': 99605},\n",
              " {'items': [],\n",
              "  'op': 'old + 6',\n",
              "  'test': 11,\n",
              "  't_dst': 2,\n",
              "  'f_dst': 3,\n",
              "  'inspected': 40344}]"
            ]
          },
          "metadata": {},
          "execution_count": 42
        }
      ]
    },
    {
      "cell_type": "code",
      "source": [
        "l = sorted([x['inspected'] for x in monkeys],reverse=True)\n",
        "l[0] * l[1]"
      ],
      "metadata": {
        "colab": {
          "base_uri": "https://localhost:8080/"
        },
        "id": "IeITzVHOT4T4",
        "outputId": "4ad9b779-334f-4c9a-914f-431044fb6deb"
      },
      "execution_count": null,
      "outputs": [
        {
          "output_type": "execute_result",
          "data": {
            "text/plain": [
              "19573408701"
            ]
          },
          "metadata": {},
          "execution_count": 43
        }
      ]
    }
  ]
}