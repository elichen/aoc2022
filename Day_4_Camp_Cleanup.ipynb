{
  "nbformat": 4,
  "nbformat_minor": 0,
  "metadata": {
    "colab": {
      "provenance": [],
      "authorship_tag": "ABX9TyOI5oDcvzpL3ou4sFkCvSOK",
      "include_colab_link": true
    },
    "kernelspec": {
      "name": "python3",
      "display_name": "Python 3"
    },
    "language_info": {
      "name": "python"
    }
  },
  "cells": [
    {
      "cell_type": "markdown",
      "metadata": {
        "id": "view-in-github",
        "colab_type": "text"
      },
      "source": [
        "<a href=\"https://colab.research.google.com/github/elichen/aoc2022/blob/main/Day_4_Camp_Cleanup.ipynb\" target=\"_parent\"><img src=\"https://colab.research.google.com/assets/colab-badge.svg\" alt=\"Open In Colab\"/></a>"
      ]
    },
    {
      "cell_type": "code",
      "execution_count": null,
      "metadata": {
        "id": "2AT5HOTdP0tA"
      },
      "outputs": [],
      "source": [
        "with open(\"input.txt\") as file:\n",
        "    lines = [line.rstrip() for line in file]"
      ]
    },
    {
      "cell_type": "code",
      "source": [
        "# lines = [\"2-4,6-8\",\n",
        "# \"2-3,4-5\",\n",
        "# \"5-7,7-9\",\n",
        "# \"2-8,3-7\",\n",
        "# \"6-6,4-6\",\n",
        "# \"2-6,4-8\"]"
      ],
      "metadata": {
        "id": "dP0BFaE7k0di"
      },
      "execution_count": null,
      "outputs": []
    },
    {
      "cell_type": "code",
      "source": [
        "total = 0\n",
        "for line in lines:\n",
        "  e1,e2 = line.split(',')\n",
        "  beg1, end1 = list(map(int,e1.split('-')))\n",
        "  beg2, end2 = list(map(int,e2.split('-')))\n",
        "  if ((beg1 <= beg2 and end1 >= end2) or\n",
        "    (beg2 <= beg1 and end2 >= end1)):\n",
        "    total += 1\n",
        "total"
      ],
      "metadata": {
        "colab": {
          "base_uri": "https://localhost:8080/"
        },
        "id": "j9VK86iyfJzr",
        "outputId": "b15684df-9379-4007-ec95-e08c7236613a"
      },
      "execution_count": null,
      "outputs": [
        {
          "output_type": "execute_result",
          "data": {
            "text/plain": [
              "496"
            ]
          },
          "metadata": {},
          "execution_count": 45
        }
      ]
    },
    {
      "cell_type": "code",
      "source": [
        "total = 0\n",
        "for line in lines:\n",
        "  e1,e2 = line.split(',')\n",
        "  beg1, end1 = list(map(int,e1.split('-')))\n",
        "  beg2, end2 = list(map(int,e2.split('-')))\n",
        "  if ((beg1 <= beg2 and end1 >= beg2) or\n",
        "    (beg2 <= beg1 and end2 >= beg1)):\n",
        "    total += 1\n",
        "total"
      ],
      "metadata": {
        "colab": {
          "base_uri": "https://localhost:8080/"
        },
        "id": "kC-d6ta0rsHM",
        "outputId": "b8600ab3-ef5a-4f36-b4a8-6199b2f77ed3"
      },
      "execution_count": null,
      "outputs": [
        {
          "output_type": "execute_result",
          "data": {
            "text/plain": [
              "847"
            ]
          },
          "metadata": {},
          "execution_count": 50
        }
      ]
    }
  ]
}