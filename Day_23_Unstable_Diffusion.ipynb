{
  "nbformat": 4,
  "nbformat_minor": 0,
  "metadata": {
    "colab": {
      "provenance": [],
      "authorship_tag": "ABX9TyOf2oB0ODY4we/34GefuDCJ",
      "include_colab_link": true
    },
    "kernelspec": {
      "name": "python3",
      "display_name": "Python 3"
    },
    "language_info": {
      "name": "python"
    }
  },
  "cells": [
    {
      "cell_type": "markdown",
      "metadata": {
        "id": "view-in-github",
        "colab_type": "text"
      },
      "source": [
        "<a href=\"https://colab.research.google.com/github/elichen/aoc2022/blob/main/Day_23_Unstable_Diffusion.ipynb\" target=\"_parent\"><img src=\"https://colab.research.google.com/assets/colab-badge.svg\" alt=\"Open In Colab\"/></a>"
      ]
    },
    {
      "cell_type": "code",
      "execution_count": 4,
      "metadata": {
        "colab": {
          "base_uri": "https://localhost:8080/"
        },
        "id": "wt5EC9UBrNtl",
        "outputId": "4ac294d5-d2d4-49af-ffad-f1619d3f5114"
      },
      "outputs": [
        {
          "output_type": "stream",
          "name": "stdout",
          "text": [
            "example: 110\n"
          ]
        },
        {
          "output_type": "execute_result",
          "data": {
            "text/plain": [
              "3864"
            ]
          },
          "metadata": {},
          "execution_count": 4
        }
      ],
      "source": [
        "from collections import defaultdict\n",
        "\n",
        "def parse_input(input_str):\n",
        "    return {(x, y) for y, line in enumerate(input_str.strip().split('\\n'))\n",
        "            for x, char in enumerate(line) if char == '#'}\n",
        "\n",
        "def get_adjacent_positions(x, y):\n",
        "    return [(x-1, y-1), (x, y-1), (x+1, y-1),\n",
        "            (x-1, y  ),           (x+1, y  ),\n",
        "            (x-1, y+1), (x, y+1), (x+1, y+1)]\n",
        "\n",
        "def propose_move(elf, elves, round_num):\n",
        "    x, y = elf\n",
        "    if not any((adj in elves) for adj in get_adjacent_positions(x, y)):\n",
        "        return None\n",
        "\n",
        "    directions = [\n",
        "        (( 0, -1), [(x-1, y-1), (x, y-1), (x+1, y-1)]),  # N\n",
        "        (( 0,  1), [(x-1, y+1), (x, y+1), (x+1, y+1)]),  # S\n",
        "        ((-1,  0), [(x-1, y-1), (x-1, y), (x-1, y+1)]),  # W\n",
        "        (( 1,  0), [(x+1, y-1), (x+1, y), (x+1, y+1)])   # E\n",
        "    ]\n",
        "\n",
        "    for _ in range(4):\n",
        "        direction, checks = directions[(round_num + _) % 4]\n",
        "        if all((pos not in elves) for pos in checks):\n",
        "            return (x + direction[0], y + direction[1])\n",
        "\n",
        "    return None\n",
        "\n",
        "def move_elves(elves, round_num):\n",
        "    proposed_moves = {}\n",
        "    proposed_destinations = defaultdict(list)\n",
        "\n",
        "    for elf in elves:\n",
        "        move = propose_move(elf, elves, round_num)\n",
        "        if move:\n",
        "            proposed_moves[elf] = move\n",
        "            proposed_destinations[move].append(elf)\n",
        "\n",
        "    for elf, move in proposed_moves.items():\n",
        "        if len(proposed_destinations[move]) == 1:\n",
        "            elves.remove(elf)\n",
        "            elves.add(move)\n",
        "\n",
        "    return len(proposed_moves) > 0\n",
        "\n",
        "def get_bounds(elves):\n",
        "    min_x = min(x for x, _ in elves)\n",
        "    max_x = max(x for x, _ in elves)\n",
        "    min_y = min(y for _, y in elves)\n",
        "    max_y = max(y for _, y in elves)\n",
        "    return min_x, max_x, min_y, max_y\n",
        "\n",
        "def count_empty_tiles(elves):\n",
        "    min_x, max_x, min_y, max_y = get_bounds(elves)\n",
        "    total_tiles = (max_x - min_x + 1) * (max_y - min_y + 1)\n",
        "    return total_tiles - len(elves)\n",
        "\n",
        "def simulate(input_str, rounds):\n",
        "    elves = parse_input(input_str)\n",
        "\n",
        "    for round_num in range(rounds):\n",
        "        if not move_elves(elves, round_num):\n",
        "            break\n",
        "\n",
        "    return count_empty_tiles(elves)\n",
        "\n",
        "# Example input\n",
        "example_input = \"\"\"\n",
        "....#..\n",
        "..###.#\n",
        "#...#.#\n",
        ".#...##\n",
        "#.###..\n",
        "##.#.##\n",
        ".#..#..\n",
        "\"\"\"\n",
        "\n",
        "result = simulate(example_input, 10)\n",
        "print(f\"example: {result}\")\n",
        "\n",
        "input = open('input.txt').read()\n",
        "simulate(input, 10)"
      ]
    },
    {
      "cell_type": "code",
      "source": [
        "def simulate_until_static(input_str):\n",
        "    elves = parse_input(input_str)\n",
        "    round_num = 0\n",
        "\n",
        "    while True:\n",
        "        if not move_elves(elves, round_num):\n",
        "            return round_num + 1  # Add 1 because rounds are 1-indexed\n",
        "        round_num += 1\n",
        "\n",
        "result_part2 = simulate_until_static(example_input)\n",
        "print(f\"example: {result_part2}\")\n",
        "simulate_until_static(input)"
      ],
      "metadata": {
        "colab": {
          "base_uri": "https://localhost:8080/"
        },
        "id": "jCMWambosl7_",
        "outputId": "5fd8f036-1322-4faf-b1ab-c857d7eec9ac"
      },
      "execution_count": 7,
      "outputs": [
        {
          "output_type": "stream",
          "name": "stdout",
          "text": [
            "Part 2: First round where no Elf moves: 20\n"
          ]
        },
        {
          "output_type": "execute_result",
          "data": {
            "text/plain": [
              "946"
            ]
          },
          "metadata": {},
          "execution_count": 7
        }
      ]
    }
  ]
}