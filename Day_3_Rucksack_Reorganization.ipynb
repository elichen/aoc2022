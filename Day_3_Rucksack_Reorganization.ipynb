{
  "nbformat": 4,
  "nbformat_minor": 0,
  "metadata": {
    "colab": {
      "provenance": [],
      "authorship_tag": "ABX9TyO1cCwbnXhwJ7H1qUtadTXB",
      "include_colab_link": true
    },
    "kernelspec": {
      "name": "python3",
      "display_name": "Python 3"
    },
    "language_info": {
      "name": "python"
    }
  },
  "cells": [
    {
      "cell_type": "markdown",
      "metadata": {
        "id": "view-in-github",
        "colab_type": "text"
      },
      "source": [
        "<a href=\"https://colab.research.google.com/github/elichen/aoc2022/blob/main/Day_3_Rucksack_Reorganization.ipynb\" target=\"_parent\"><img src=\"https://colab.research.google.com/assets/colab-badge.svg\" alt=\"Open In Colab\"/></a>"
      ]
    },
    {
      "cell_type": "code",
      "execution_count": null,
      "metadata": {
        "id": "CFrmxyrJ3fy2"
      },
      "outputs": [],
      "source": [
        "# Open the file and read the lines\n",
        "with open('input.txt', 'r') as f:\n",
        "  lines = f.readlines()"
      ]
    },
    {
      "cell_type": "code",
      "source": [
        "# lines = [\n",
        "#     'vJrwpWtwJgWrhcsFMMfFFhFp',\n",
        "# 'jqHRNqRjqzjGDLGLrsFMfFZSrLrFZsSL',\n",
        "# 'PmmdzqPrVvPwwTWBwg',\n",
        "# 'wMqvLMZHhHMvwLHjbvcjnnSBnvTQFn',\n",
        "# 'ttgJtRGJQctTZtZT',\n",
        "# 'CrZsJsPPZsGzwwsLwLmpwMDw'\n",
        "# ]"
      ],
      "metadata": {
        "id": "PLlRkO5-48i2"
      },
      "execution_count": null,
      "outputs": []
    },
    {
      "cell_type": "code",
      "source": [
        "total = 0\n",
        "for line in lines:\n",
        "  line = line.strip()\n",
        "  i = len(line)//2\n",
        "  comp1 = line[:i]\n",
        "  comp2 = line[i:]\n",
        "  set1 = set(comp1)\n",
        "  set2 = set(comp2)\n",
        "  item = set1.intersection(set2).pop()\n",
        "  if item.isupper():\n",
        "    total += ord(item)-ord('A')+27\n",
        "  else:\n",
        "    total += ord(item)-ord('a')+1\n",
        "total"
      ],
      "metadata": {
        "colab": {
          "base_uri": "https://localhost:8080/"
        },
        "id": "-U6PSq-04Xwg",
        "outputId": "4b509c3e-7dc7-4188-86df-fadf72ab9a09"
      },
      "execution_count": null,
      "outputs": [
        {
          "output_type": "execute_result",
          "data": {
            "text/plain": [
              "7845"
            ]
          },
          "metadata": {},
          "execution_count": 31
        }
      ]
    },
    {
      "cell_type": "code",
      "source": [
        "total = 0\n",
        "for i in range(len(lines)//3):\n",
        "  r1 = set(lines[i*3].strip())\n",
        "  r2 = set(lines[i*3+1].strip())\n",
        "  r3 = set(lines[i*3+2].strip())\n",
        "  item = r1.intersection(r2).intersection(r3).pop()\n",
        "  if item.isupper():\n",
        "    total += ord(item)-ord('A')+27\n",
        "  else:\n",
        "    total += ord(item)-ord('a')+1\n",
        "total"
      ],
      "metadata": {
        "colab": {
          "base_uri": "https://localhost:8080/"
        },
        "id": "NCGhR3787Z0j",
        "outputId": "789bd7f5-55be-4beb-dd42-ad3587bb0316"
      },
      "execution_count": null,
      "outputs": [
        {
          "output_type": "execute_result",
          "data": {
            "text/plain": [
              "2790"
            ]
          },
          "metadata": {},
          "execution_count": 43
        }
      ]
    }
  ]
}