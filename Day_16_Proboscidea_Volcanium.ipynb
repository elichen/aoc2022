{
  "cells": [
    {
      "cell_type": "markdown",
      "metadata": {
        "id": "view-in-github",
        "colab_type": "text"
      },
      "source": [
        "<a href=\"https://colab.research.google.com/github/elichen/aoc2022/blob/main/Day_16_Proboscidea_Volcanium.ipynb\" target=\"_parent\"><img src=\"https://colab.research.google.com/assets/colab-badge.svg\" alt=\"Open In Colab\"/></a>"
      ]
    },
    {
      "cell_type": "code",
      "execution_count": null,
      "metadata": {
        "id": "tZrKtmIEBi76"
      },
      "outputs": [],
      "source": [
        "lines = '''Valve AA has flow rate=0; tunnels lead to valves DD, II, BB\n",
        "Valve BB has flow rate=13; tunnels lead to valves CC, AA\n",
        "Valve CC has flow rate=2; tunnels lead to valves DD, BB\n",
        "Valve DD has flow rate=20; tunnels lead to valves CC, AA, EE\n",
        "Valve EE has flow rate=3; tunnels lead to valves FF, DD\n",
        "Valve FF has flow rate=0; tunnels lead to valves EE, GG\n",
        "Valve GG has flow rate=0; tunnels lead to valves FF, HH\n",
        "Valve HH has flow rate=22; tunnel leads to valve GG\n",
        "Valve II has flow rate=0; tunnels lead to valves AA, JJ\n",
        "Valve JJ has flow rate=21; tunnel leads to valve II'''\n",
        "lines = lines.split(\"\\n\")"
      ]
    },
    {
      "cell_type": "code",
      "execution_count": null,
      "metadata": {
        "id": "zMVsHmyL06Nl"
      },
      "outputs": [],
      "source": [
        "lines = open(\"input.txt\").readlines()"
      ]
    },
    {
      "cell_type": "code",
      "execution_count": null,
      "metadata": {
        "id": "PRL9MfOWBsFP"
      },
      "outputs": [],
      "source": [
        "lines = [x.strip() for x in lines]"
      ]
    },
    {
      "cell_type": "code",
      "execution_count": null,
      "metadata": {
        "id": "vDqDBOoMR8Vo"
      },
      "outputs": [],
      "source": [
        "import re"
      ]
    },
    {
      "cell_type": "code",
      "execution_count": null,
      "metadata": {
        "colab": {
          "base_uri": "https://localhost:8080/"
        },
        "id": "y7sVHuJ0Bt0a",
        "outputId": "2c703d8b-5773-4ee5-a7a8-ec68c3b969a0"
      },
      "outputs": [
        {
          "data": {
            "text/plain": [
              "{'ZN': {'flow': 0, 'next': ['SD', 'ZV']},\n",
              " 'HO': {'flow': 17, 'next': ['LT']},\n",
              " 'FT': {'flow': 6, 'next': ['DW', 'BV', 'JA', 'FB', 'TV']},\n",
              " 'AD': {'flow': 0, 'next': ['AA', 'JG']},\n",
              " 'GE': {'flow': 0, 'next': ['JG', 'RD']},\n",
              " 'GI': {'flow': 0, 'next': ['WJ', 'RD']},\n",
              " 'RM': {'flow': 0, 'next': ['BU', 'WJ']},\n",
              " 'GV': {'flow': 0, 'next': ['WB', 'HS']},\n",
              " 'VA': {'flow': 0, 'next': ['AA', 'HS']},\n",
              " 'TJ': {'flow': 21, 'next': ['CK']},\n",
              " 'WB': {'flow': 0, 'next': ['GV', 'EV']},\n",
              " 'DV': {'flow': 19, 'next': ['OI', 'NK']},\n",
              " 'EL': {'flow': 0, 'next': ['HS', 'YC']},\n",
              " 'KU': {'flow': 0, 'next': ['WJ', 'OI']},\n",
              " 'WI': {'flow': 16, 'next': ['SD', 'AN', 'GS', 'JV']},\n",
              " 'JG': {'flow': 3, 'next': ['SV', 'BU', 'GC', 'GE', 'AD']},\n",
              " 'TC': {'flow': 0, 'next': ['TV', 'WJ']},\n",
              " 'GC': {'flow': 0, 'next': ['JG', 'JA']},\n",
              " 'LS': {'flow': 0, 'next': ['JH', 'YP']},\n",
              " 'OI': {'flow': 0, 'next': ['KU', 'DV']},\n",
              " 'ZH': {'flow': 0, 'next': ['YZ', 'RD']},\n",
              " 'YZ': {'flow': 0, 'next': ['ZH', 'AA']},\n",
              " 'YP': {'flow': 0, 'next': ['KS', 'LS']},\n",
              " 'CK': {'flow': 0, 'next': ['EG', 'TJ']},\n",
              " 'NY': {'flow': 0, 'next': ['HS', 'UU']},\n",
              " 'IQ': {'flow': 18, 'next': ['YC']},\n",
              " 'HI': {'flow': 0, 'next': ['SS', 'RD']},\n",
              " 'DW': {'flow': 0, 'next': ['FT', 'JH']},\n",
              " 'EV': {'flow': 7, 'next': ['SV', 'WB', 'SS', 'GS']},\n",
              " 'SV': {'flow': 0, 'next': ['JG', 'EV']},\n",
              " 'BU': {'flow': 0, 'next': ['JG', 'RM']},\n",
              " 'GS': {'flow': 0, 'next': ['EV', 'WI']},\n",
              " 'UY': {'flow': 0, 'next': ['WJ', 'FE']},\n",
              " 'AA': {'flow': 0, 'next': ['VA', 'YZ', 'AD', 'FB']},\n",
              " 'SD': {'flow': 0, 'next': ['WI', 'ZN']},\n",
              " 'KS': {'flow': 23, 'next': ['YP']},\n",
              " 'RD': {'flow': 4, 'next': ['GI', 'HI', 'BV', 'ZH', 'GE']},\n",
              " 'ZV': {'flow': 15, 'next': ['ZN']},\n",
              " 'HB': {'flow': 0, 'next': ['HS', 'AN']},\n",
              " 'UU': {'flow': 0, 'next': ['EG', 'NY']},\n",
              " 'SS': {'flow': 0, 'next': ['HI', 'EV']},\n",
              " 'HS': {'flow': 12, 'next': ['HB', 'EL', 'VA', 'GV', 'NY']},\n",
              " 'LT': {'flow': 0, 'next': ['DS', 'HO']},\n",
              " 'JH': {'flow': 5, 'next': ['LS', 'FE', 'QU', 'NK', 'DW']},\n",
              " 'AN': {'flow': 0, 'next': ['HB', 'WI']},\n",
              " 'NK': {'flow': 0, 'next': ['DV', 'JH']},\n",
              " 'JA': {'flow': 0, 'next': ['GC', 'FT']},\n",
              " 'EG': {'flow': 14, 'next': ['CK', 'UU', 'DS']},\n",
              " 'JV': {'flow': 0, 'next': ['QU', 'WI']},\n",
              " 'WJ': {'flow': 8, 'next': ['GI', 'RM', 'KU', 'UY', 'TC']},\n",
              " 'FE': {'flow': 0, 'next': ['JH', 'UY']},\n",
              " 'TV': {'flow': 0, 'next': ['FT', 'TC']},\n",
              " 'YC': {'flow': 0, 'next': ['IQ', 'EL']},\n",
              " 'QU': {'flow': 0, 'next': ['JV', 'JH']},\n",
              " 'DS': {'flow': 0, 'next': ['LT', 'EG']},\n",
              " 'BV': {'flow': 0, 'next': ['FT', 'RD']},\n",
              " 'FB': {'flow': 0, 'next': ['AA', 'FT']}}"
            ]
          },
          "execution_count": 342,
          "metadata": {},
          "output_type": "execute_result"
        }
      ],
      "source": [
        "nodes = {}\n",
        "for line in lines:\n",
        "  split = re.split(\" |=|;\",line)\n",
        "  next = [x.strip(',') for x in split[11:]]\n",
        "  nodes[split[1]] = {'flow':int(split[5]), 'next':next}\n",
        "nodes"
      ]
    },
    {
      "cell_type": "code",
      "execution_count": null,
      "metadata": {
        "colab": {
          "base_uri": "https://localhost:8080/"
        },
        "id": "vbWrQ6LX5AaP",
        "outputId": "2e01ae11-afc4-41fe-f2df-74d8ef5b9876"
      },
      "outputs": [
        {
          "data": {
            "text/plain": [
              "15"
            ]
          },
          "execution_count": 343,
          "metadata": {},
          "output_type": "execute_result"
        }
      ],
      "source": [
        "valves = frozenset([x for x in nodes if nodes[x]['flow']>0])\n",
        "len(valves)"
      ]
    },
    {
      "cell_type": "code",
      "execution_count": null,
      "metadata": {
        "id": "Q7UKd_dh1dUc"
      },
      "outputs": [],
      "source": [
        "for node in nodes:\n",
        "  cur = 0\n",
        "  distances = {}\n",
        "  paths = [node]\n",
        "  while len(distances) != len(nodes):\n",
        "    cur += 1\n",
        "    old_paths = paths\n",
        "    new_path = []\n",
        "    for path in old_paths:\n",
        "      for next in nodes[path]['next']:\n",
        "        if next not in distances:\n",
        "          distances[next] = cur\n",
        "        new_path += [next]\n",
        "    paths = new_path\n",
        "  nodes[node]['distances'] = distances"
      ]
    },
    {
      "cell_type": "code",
      "execution_count": null,
      "metadata": {
        "id": "dTmrvnrIUfhB"
      },
      "outputs": [],
      "source": [
        "from functools import lru_cache"
      ]
    },
    {
      "cell_type": "code",
      "execution_count": null,
      "metadata": {
        "colab": {
          "base_uri": "https://localhost:8080/"
        },
        "id": "M-SYN1Bcfp7o",
        "outputId": "07f75ecb-6609-48dd-c9b2-ad3a6e8e5117"
      },
      "outputs": [
        {
          "data": {
            "text/plain": [
              "1376"
            ]
          },
          "execution_count": 346,
          "metadata": {},
          "output_type": "execute_result"
        }
      ],
      "source": [
        "`# @lru_cache(maxsize = None)\n",
        "def max_flow(start, remaining, steps):\n",
        "  if steps <= 1: return 0\n",
        "  result = 0\n",
        "  for valve in remaining:\n",
        "    new_steps = steps - nodes[start]['distances'][valve] - 1\n",
        "    flow = new_steps * nodes[valve]['flow']\n",
        "    tmp = remaining.copy() - {valve}\n",
        "    flow += max_flow(valve, tmp, new_steps)\n",
        "    if flow > result:\n",
        "      result = flow\n",
        "  return result\n",
        "max_flow('AA', valves, 30)"
      ]
    },
    {
      "cell_type": "code",
      "execution_count": null,
      "metadata": {
        "id": "zUg8nADhSi9V"
      },
      "outputs": [],
      "source": [
        "from itertools import combinations\n",
        "from tqdm.notebook import tqdm"
      ]
    },
    {
      "cell_type": "code",
      "execution_count": null,
      "metadata": {
        "colab": {
          "background_save": true,
          "base_uri": "https://localhost:8080/",
          "height": 49,
          "referenced_widgets": [
            "3c6a41df9f4b43f4bb21969ea4eae598",
            "bd17039c8ccf4052ba8863b17d3e74c6",
            "27ad5ffa053d475bbe3aeab47f40a553",
            "e18300aea85a4b99b702974882b8f811",
            "a9362decd2ce4e51b2c26c300005b096",
            "7746981eb05b42a78cc0390548b44c29",
            "e68d0aac01374c7a9bc7215375702b5a",
            "6e8ca7d7958e411989f85be728871501",
            "ec3cc060084f4ae3bff7c58b72f073e0",
            "e2150a6e3d8c4d45b847def4d41511f8",
            "17d092651b11415eb2247dee3be27c87"
          ]
        },
        "id": "8Pzj4yCJR1O-",
        "outputId": "f756cbbd-e3b1-4707-b033-290f755ae167"
      },
      "outputs": [
        {
          "data": {
            "application/vnd.jupyter.widget-view+json": {
              "model_id": "3c6a41df9f4b43f4bb21969ea4eae598",
              "version_major": 2,
              "version_minor": 0
            },
            "text/plain": [
              "  0%|          | 0/15 [00:00<?, ?it/s]"
            ]
          },
          "metadata": {},
          "output_type": "display_data"
        },
        {
          "data": {
            "text/plain": [
              "1933"
            ]
          },
          "execution_count": 348,
          "metadata": {},
          "output_type": "execute_result"
        }
      ],
      "source": [
        "max_duo_flow = 0\n",
        "for i in tqdm(range(len(valves))):\n",
        "  for c1 in combinations(valves,i):\n",
        "    r1 = frozenset(c1)\n",
        "    r2 = valves - r1\n",
        "    max_duo_flow = max([max_flow('AA', r1, 26) + max_flow('AA', r2, 26),max_duo_flow])\n",
        "max_duo_flow"
      ]
    }
  ],
  "metadata": {
    "colab": {
      "provenance": [],
      "authorship_tag": "ABX9TyM3KtQVj+ZFem4wIPTpyBKC",
      "include_colab_link": true
    },
    "kernelspec": {
      "display_name": "Python 3",
      "name": "python3"
    },
    "language_info": {
      "name": "python"
    },
    "widgets": {
      "application/vnd.jupyter.widget-state+json": {
        "17d092651b11415eb2247dee3be27c87": {
          "model_module": "@jupyter-widgets/controls",
          "model_module_version": "1.5.0",
          "model_name": "DescriptionStyleModel",
          "state": {
            "_model_module": "@jupyter-widgets/controls",
            "_model_module_version": "1.5.0",
            "_model_name": "DescriptionStyleModel",
            "_view_count": null,
            "_view_module": "@jupyter-widgets/base",
            "_view_module_version": "1.2.0",
            "_view_name": "StyleView",
            "description_width": ""
          }
        },
        "27ad5ffa053d475bbe3aeab47f40a553": {
          "model_module": "@jupyter-widgets/controls",
          "model_module_version": "1.5.0",
          "model_name": "FloatProgressModel",
          "state": {
            "_dom_classes": [],
            "_model_module": "@jupyter-widgets/controls",
            "_model_module_version": "1.5.0",
            "_model_name": "FloatProgressModel",
            "_view_count": null,
            "_view_module": "@jupyter-widgets/controls",
            "_view_module_version": "1.5.0",
            "_view_name": "ProgressView",
            "bar_style": "",
            "description": "",
            "description_tooltip": null,
            "layout": "IPY_MODEL_6e8ca7d7958e411989f85be728871501",
            "max": 15,
            "min": 0,
            "orientation": "horizontal",
            "style": "IPY_MODEL_ec3cc060084f4ae3bff7c58b72f073e0",
            "value": 3
          }
        },
        "3c6a41df9f4b43f4bb21969ea4eae598": {
          "model_module": "@jupyter-widgets/controls",
          "model_module_version": "1.5.0",
          "model_name": "HBoxModel",
          "state": {
            "_dom_classes": [],
            "_model_module": "@jupyter-widgets/controls",
            "_model_module_version": "1.5.0",
            "_model_name": "HBoxModel",
            "_view_count": null,
            "_view_module": "@jupyter-widgets/controls",
            "_view_module_version": "1.5.0",
            "_view_name": "HBoxView",
            "box_style": "",
            "children": [
              "IPY_MODEL_bd17039c8ccf4052ba8863b17d3e74c6",
              "IPY_MODEL_27ad5ffa053d475bbe3aeab47f40a553",
              "IPY_MODEL_e18300aea85a4b99b702974882b8f811"
            ],
            "layout": "IPY_MODEL_a9362decd2ce4e51b2c26c300005b096"
          }
        },
        "6e8ca7d7958e411989f85be728871501": {
          "model_module": "@jupyter-widgets/base",
          "model_module_version": "1.2.0",
          "model_name": "LayoutModel",
          "state": {
            "_model_module": "@jupyter-widgets/base",
            "_model_module_version": "1.2.0",
            "_model_name": "LayoutModel",
            "_view_count": null,
            "_view_module": "@jupyter-widgets/base",
            "_view_module_version": "1.2.0",
            "_view_name": "LayoutView",
            "align_content": null,
            "align_items": null,
            "align_self": null,
            "border": null,
            "bottom": null,
            "display": null,
            "flex": null,
            "flex_flow": null,
            "grid_area": null,
            "grid_auto_columns": null,
            "grid_auto_flow": null,
            "grid_auto_rows": null,
            "grid_column": null,
            "grid_gap": null,
            "grid_row": null,
            "grid_template_areas": null,
            "grid_template_columns": null,
            "grid_template_rows": null,
            "height": null,
            "justify_content": null,
            "justify_items": null,
            "left": null,
            "margin": null,
            "max_height": null,
            "max_width": null,
            "min_height": null,
            "min_width": null,
            "object_fit": null,
            "object_position": null,
            "order": null,
            "overflow": null,
            "overflow_x": null,
            "overflow_y": null,
            "padding": null,
            "right": null,
            "top": null,
            "visibility": null,
            "width": null
          }
        },
        "7746981eb05b42a78cc0390548b44c29": {
          "model_module": "@jupyter-widgets/base",
          "model_module_version": "1.2.0",
          "model_name": "LayoutModel",
          "state": {
            "_model_module": "@jupyter-widgets/base",
            "_model_module_version": "1.2.0",
            "_model_name": "LayoutModel",
            "_view_count": null,
            "_view_module": "@jupyter-widgets/base",
            "_view_module_version": "1.2.0",
            "_view_name": "LayoutView",
            "align_content": null,
            "align_items": null,
            "align_self": null,
            "border": null,
            "bottom": null,
            "display": null,
            "flex": null,
            "flex_flow": null,
            "grid_area": null,
            "grid_auto_columns": null,
            "grid_auto_flow": null,
            "grid_auto_rows": null,
            "grid_column": null,
            "grid_gap": null,
            "grid_row": null,
            "grid_template_areas": null,
            "grid_template_columns": null,
            "grid_template_rows": null,
            "height": null,
            "justify_content": null,
            "justify_items": null,
            "left": null,
            "margin": null,
            "max_height": null,
            "max_width": null,
            "min_height": null,
            "min_width": null,
            "object_fit": null,
            "object_position": null,
            "order": null,
            "overflow": null,
            "overflow_x": null,
            "overflow_y": null,
            "padding": null,
            "right": null,
            "top": null,
            "visibility": null,
            "width": null
          }
        },
        "a9362decd2ce4e51b2c26c300005b096": {
          "model_module": "@jupyter-widgets/base",
          "model_module_version": "1.2.0",
          "model_name": "LayoutModel",
          "state": {
            "_model_module": "@jupyter-widgets/base",
            "_model_module_version": "1.2.0",
            "_model_name": "LayoutModel",
            "_view_count": null,
            "_view_module": "@jupyter-widgets/base",
            "_view_module_version": "1.2.0",
            "_view_name": "LayoutView",
            "align_content": null,
            "align_items": null,
            "align_self": null,
            "border": null,
            "bottom": null,
            "display": null,
            "flex": null,
            "flex_flow": null,
            "grid_area": null,
            "grid_auto_columns": null,
            "grid_auto_flow": null,
            "grid_auto_rows": null,
            "grid_column": null,
            "grid_gap": null,
            "grid_row": null,
            "grid_template_areas": null,
            "grid_template_columns": null,
            "grid_template_rows": null,
            "height": null,
            "justify_content": null,
            "justify_items": null,
            "left": null,
            "margin": null,
            "max_height": null,
            "max_width": null,
            "min_height": null,
            "min_width": null,
            "object_fit": null,
            "object_position": null,
            "order": null,
            "overflow": null,
            "overflow_x": null,
            "overflow_y": null,
            "padding": null,
            "right": null,
            "top": null,
            "visibility": null,
            "width": null
          }
        },
        "bd17039c8ccf4052ba8863b17d3e74c6": {
          "model_module": "@jupyter-widgets/controls",
          "model_module_version": "1.5.0",
          "model_name": "HTMLModel",
          "state": {
            "_dom_classes": [],
            "_model_module": "@jupyter-widgets/controls",
            "_model_module_version": "1.5.0",
            "_model_name": "HTMLModel",
            "_view_count": null,
            "_view_module": "@jupyter-widgets/controls",
            "_view_module_version": "1.5.0",
            "_view_name": "HTMLView",
            "description": "",
            "description_tooltip": null,
            "layout": "IPY_MODEL_7746981eb05b42a78cc0390548b44c29",
            "placeholder": "​",
            "style": "IPY_MODEL_e68d0aac01374c7a9bc7215375702b5a",
            "value": " 20%"
          }
        },
        "e18300aea85a4b99b702974882b8f811": {
          "model_module": "@jupyter-widgets/controls",
          "model_module_version": "1.5.0",
          "model_name": "HTMLModel",
          "state": {
            "_dom_classes": [],
            "_model_module": "@jupyter-widgets/controls",
            "_model_module_version": "1.5.0",
            "_model_name": "HTMLModel",
            "_view_count": null,
            "_view_module": "@jupyter-widgets/controls",
            "_view_module_version": "1.5.0",
            "_view_name": "HTMLView",
            "description": "",
            "description_tooltip": null,
            "layout": "IPY_MODEL_e2150a6e3d8c4d45b847def4d41511f8",
            "placeholder": "​",
            "style": "IPY_MODEL_17d092651b11415eb2247dee3be27c87",
            "value": " 3/15 [00:14&lt;01:13,  6.12s/it]"
          }
        },
        "e2150a6e3d8c4d45b847def4d41511f8": {
          "model_module": "@jupyter-widgets/base",
          "model_module_version": "1.2.0",
          "model_name": "LayoutModel",
          "state": {
            "_model_module": "@jupyter-widgets/base",
            "_model_module_version": "1.2.0",
            "_model_name": "LayoutModel",
            "_view_count": null,
            "_view_module": "@jupyter-widgets/base",
            "_view_module_version": "1.2.0",
            "_view_name": "LayoutView",
            "align_content": null,
            "align_items": null,
            "align_self": null,
            "border": null,
            "bottom": null,
            "display": null,
            "flex": null,
            "flex_flow": null,
            "grid_area": null,
            "grid_auto_columns": null,
            "grid_auto_flow": null,
            "grid_auto_rows": null,
            "grid_column": null,
            "grid_gap": null,
            "grid_row": null,
            "grid_template_areas": null,
            "grid_template_columns": null,
            "grid_template_rows": null,
            "height": null,
            "justify_content": null,
            "justify_items": null,
            "left": null,
            "margin": null,
            "max_height": null,
            "max_width": null,
            "min_height": null,
            "min_width": null,
            "object_fit": null,
            "object_position": null,
            "order": null,
            "overflow": null,
            "overflow_x": null,
            "overflow_y": null,
            "padding": null,
            "right": null,
            "top": null,
            "visibility": null,
            "width": null
          }
        },
        "e68d0aac01374c7a9bc7215375702b5a": {
          "model_module": "@jupyter-widgets/controls",
          "model_module_version": "1.5.0",
          "model_name": "DescriptionStyleModel",
          "state": {
            "_model_module": "@jupyter-widgets/controls",
            "_model_module_version": "1.5.0",
            "_model_name": "DescriptionStyleModel",
            "_view_count": null,
            "_view_module": "@jupyter-widgets/base",
            "_view_module_version": "1.2.0",
            "_view_name": "StyleView",
            "description_width": ""
          }
        },
        "ec3cc060084f4ae3bff7c58b72f073e0": {
          "model_module": "@jupyter-widgets/controls",
          "model_module_version": "1.5.0",
          "model_name": "ProgressStyleModel",
          "state": {
            "_model_module": "@jupyter-widgets/controls",
            "_model_module_version": "1.5.0",
            "_model_name": "ProgressStyleModel",
            "_view_count": null,
            "_view_module": "@jupyter-widgets/base",
            "_view_module_version": "1.2.0",
            "_view_name": "StyleView",
            "bar_color": null,
            "description_width": ""
          }
        }
      }
    }
  },
  "nbformat": 4,
  "nbformat_minor": 0
}