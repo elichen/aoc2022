{
  "nbformat": 4,
  "nbformat_minor": 0,
  "metadata": {
    "colab": {
      "provenance": [],
      "authorship_tag": "ABX9TyOPfqU113DbI/oWlDtgAZ6G",
      "include_colab_link": true
    },
    "kernelspec": {
      "name": "python3",
      "display_name": "Python 3"
    },
    "language_info": {
      "name": "python"
    }
  },
  "cells": [
    {
      "cell_type": "markdown",
      "metadata": {
        "id": "view-in-github",
        "colab_type": "text"
      },
      "source": [
        "<a href=\"https://colab.research.google.com/github/elichen/aoc2022/blob/main/Day_2_Rock_Paper_Scissors.ipynb\" target=\"_parent\"><img src=\"https://colab.research.google.com/assets/colab-badge.svg\" alt=\"Open In Colab\"/></a>"
      ]
    },
    {
      "cell_type": "code",
      "execution_count": null,
      "metadata": {
        "id": "YiUvwLLMQU9i"
      },
      "outputs": [],
      "source": [
        "with open('input.txt', 'r') as f:\n",
        "  lines = f.readlines()"
      ]
    },
    {
      "cell_type": "code",
      "source": [
        "total_score = 0\n",
        "for line in lines:\n",
        "  col1, col2 = line.split()\n",
        "  val1 = ord(col1) - ord('A')\n",
        "  val2 = ord(col2) - ord('X')\n",
        "  score = val2+1\n",
        "  if val1 == val2:\n",
        "    score += 3\n",
        "  elif (val1+1)%3 == val2:\n",
        "    score += 6\n",
        "  total_score += score"
      ],
      "metadata": {
        "id": "HjNkSa1AQqOv"
      },
      "execution_count": null,
      "outputs": []
    },
    {
      "cell_type": "code",
      "source": [
        "total_score"
      ],
      "metadata": {
        "colab": {
          "base_uri": "https://localhost:8080/"
        },
        "id": "PjeAW2txS5tb",
        "outputId": "ba2fca4d-528f-4a3d-f78f-748f3d1c25b0"
      },
      "execution_count": null,
      "outputs": [
        {
          "output_type": "execute_result",
          "data": {
            "text/plain": [
              "12794"
            ]
          },
          "metadata": {},
          "execution_count": 33
        }
      ]
    },
    {
      "cell_type": "code",
      "source": [
        "# lines = ['A Y', 'B X', 'C Z']"
      ],
      "metadata": {
        "id": "9Yox9FF1WoBs"
      },
      "execution_count": null,
      "outputs": []
    },
    {
      "cell_type": "code",
      "source": [
        "total_score = 0\n",
        "for line in lines:\n",
        "  col1, col2 = line.split()\n",
        "  val1 = ord(col1) - ord('A')\n",
        "  val2 = ord(col2) - ord('X')\n",
        "  score = val2*3 + 1\n",
        "  if val2 == 0:\n",
        "    score += (val1-1)%3\n",
        "  elif val2 == 1:\n",
        "    score += val1\n",
        "  else:\n",
        "    score += (val1+1)%3\n",
        "  # print(col1, col2, score)\n",
        "  total_score += score"
      ],
      "metadata": {
        "id": "TLFUbPQMWH5y"
      },
      "execution_count": null,
      "outputs": []
    },
    {
      "cell_type": "code",
      "source": [
        "total_score"
      ],
      "metadata": {
        "colab": {
          "base_uri": "https://localhost:8080/"
        },
        "id": "HgqL65cfXp5Z",
        "outputId": "0170a338-15ef-4927-bd33-488c90a64598"
      },
      "execution_count": null,
      "outputs": [
        {
          "output_type": "execute_result",
          "data": {
            "text/plain": [
              "14979"
            ]
          },
          "metadata": {},
          "execution_count": 42
        }
      ]
    },
    {
      "cell_type": "code",
      "source": [],
      "metadata": {
        "id": "YUINJ8KEXtjV"
      },
      "execution_count": null,
      "outputs": []
    }
  ]
}