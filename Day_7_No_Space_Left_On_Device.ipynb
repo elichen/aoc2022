{
  "nbformat": 4,
  "nbformat_minor": 0,
  "metadata": {
    "colab": {
      "provenance": [],
      "authorship_tag": "ABX9TyPo4GhA+B5ryPB2nEPgr+Js",
      "include_colab_link": true
    },
    "kernelspec": {
      "name": "python3",
      "display_name": "Python 3"
    },
    "language_info": {
      "name": "python"
    }
  },
  "cells": [
    {
      "cell_type": "markdown",
      "metadata": {
        "id": "view-in-github",
        "colab_type": "text"
      },
      "source": [
        "<a href=\"https://colab.research.google.com/github/elichen/aoc2022/blob/main/Day_7_No_Space_Left_On_Device.ipynb\" target=\"_parent\"><img src=\"https://colab.research.google.com/assets/colab-badge.svg\" alt=\"Open In Colab\"/></a>"
      ]
    },
    {
      "cell_type": "code",
      "execution_count": null,
      "metadata": {
        "id": "4DU5VwRjfGw_"
      },
      "outputs": [],
      "source": [
        "input = open(\"input.txt\").readlines()"
      ]
    },
    {
      "cell_type": "code",
      "source": [
        "# input = '''$ cd /\n",
        "# $ ls\n",
        "# dir a\n",
        "# 14848514 b.txt\n",
        "# 8504156 c.dat\n",
        "# dir d\n",
        "# $ cd a\n",
        "# $ ls\n",
        "# dir e\n",
        "# 29116 f\n",
        "# 2557 g\n",
        "# 62596 h.lst\n",
        "# $ cd e\n",
        "# $ ls\n",
        "# 584 i\n",
        "# $ cd ..\n",
        "# $ cd ..\n",
        "# $ cd d\n",
        "# $ ls\n",
        "# 4060174 j\n",
        "# 8033020 d.log\n",
        "# 5626152 d.ext\n",
        "# 7214296 k'''\n",
        "# input = input.split('\\n')"
      ],
      "metadata": {
        "id": "9xfEa2t1lMvV"
      },
      "execution_count": null,
      "outputs": []
    },
    {
      "cell_type": "code",
      "source": [
        "root = {}\n",
        "root[\"..\"] = root\n",
        "cur = root"
      ],
      "metadata": {
        "id": "oJ_8ViIaf0F5"
      },
      "execution_count": null,
      "outputs": []
    },
    {
      "cell_type": "code",
      "source": [
        "ls_mode = False\n",
        "for line in input:\n",
        "  toks = line.split()\n",
        "  # print(toks)\n",
        "  if ls_mode:\n",
        "    if toks[0] == \"$\":\n",
        "      ls_mode = False\n",
        "    elif toks[0] == \"dir\":\n",
        "      cur[toks[1]] = cur.get(toks[1], {\"..\":cur})\n",
        "    else:\n",
        "      cur[toks[1]] = int(toks[0])\n",
        "  if toks[0] == \"$\":\n",
        "    if toks[1] == \"ls\":\n",
        "      ls_mode = True\n",
        "    elif toks[1] == \"cd\":\n",
        "      if toks[2] == \"/\":\n",
        "        cur = root\n",
        "      else:\n",
        "        cur = cur[toks[2]]\n",
        "# root"
      ],
      "metadata": {
        "id": "KqALIhVTlHY3"
      },
      "execution_count": null,
      "outputs": []
    },
    {
      "cell_type": "code",
      "source": [
        "result = []\n",
        "def total_size(node):\n",
        "  if type(node) == int:\n",
        "    return node\n",
        "  else:\n",
        "    total = 0\n",
        "    for key, val in node.items():\n",
        "      if not key == \"..\":\n",
        "        total += total_size(val)\n",
        "    if total <= 100000:\n",
        "      result.append(total)\n",
        "    return total"
      ],
      "metadata": {
        "id": "8e5xXIV3lW8r"
      },
      "execution_count": null,
      "outputs": []
    },
    {
      "cell_type": "code",
      "source": [
        "total_size(root)"
      ],
      "metadata": {
        "colab": {
          "base_uri": "https://localhost:8080/"
        },
        "id": "Fdaonrm4qyvu",
        "outputId": "cc032717-83cf-4515-f71d-522935fdfa03"
      },
      "execution_count": null,
      "outputs": [
        {
          "output_type": "execute_result",
          "data": {
            "text/plain": [
              "47870454"
            ]
          },
          "metadata": {},
          "execution_count": 124
        }
      ]
    },
    {
      "cell_type": "code",
      "source": [
        "# part 1\n",
        "sum(result)"
      ],
      "metadata": {
        "colab": {
          "base_uri": "https://localhost:8080/"
        },
        "id": "rJnrBur6pvjE",
        "outputId": "386d61ed-ee15-4f7d-fad2-2a6feb7323b1"
      },
      "execution_count": null,
      "outputs": [
        {
          "output_type": "execute_result",
          "data": {
            "text/plain": [
              "1667443"
            ]
          },
          "metadata": {},
          "execution_count": 125
        }
      ]
    },
    {
      "cell_type": "code",
      "source": [
        "total_disk_space = 70000000\n",
        "total_disk_space - total_size(root)"
      ],
      "metadata": {
        "colab": {
          "base_uri": "https://localhost:8080/"
        },
        "id": "OsHaCMBKsZ34",
        "outputId": "a8b6a971-7719-4ab6-e2c0-4780f44843a4"
      },
      "execution_count": null,
      "outputs": [
        {
          "output_type": "execute_result",
          "data": {
            "text/plain": [
              "22129546"
            ]
          },
          "metadata": {},
          "execution_count": 126
        }
      ]
    },
    {
      "cell_type": "code",
      "source": [
        "to_delete = 30000000 - (total_disk_space - total_size(root))\n",
        "to_delete"
      ],
      "metadata": {
        "colab": {
          "base_uri": "https://localhost:8080/"
        },
        "id": "IxtDItbvsocS",
        "outputId": "ebeabcfd-36e0-48c3-8ac7-f00774a6c5c6"
      },
      "execution_count": null,
      "outputs": [
        {
          "output_type": "execute_result",
          "data": {
            "text/plain": [
              "7870454"
            ]
          },
          "metadata": {},
          "execution_count": 127
        }
      ]
    },
    {
      "cell_type": "code",
      "source": [
        "smallest = total_disk_space\n",
        "def total_size(node):\n",
        "  global smallest\n",
        "  if type(node) == int:\n",
        "    return node\n",
        "  else:\n",
        "    total = 0\n",
        "    for key, val in node.items():\n",
        "      if not key == \"..\":\n",
        "        total += total_size(val)\n",
        "    if total > to_delete and total < smallest:\n",
        "      smallest = total\n",
        "    return total"
      ],
      "metadata": {
        "id": "To9TG6W7tTv4"
      },
      "execution_count": null,
      "outputs": []
    },
    {
      "cell_type": "code",
      "source": [
        "total_size(root)\n",
        "smallest"
      ],
      "metadata": {
        "colab": {
          "base_uri": "https://localhost:8080/"
        },
        "id": "M4RL_KGstqJi",
        "outputId": "8cdee8e3-7708-433d-8ff5-4e94de51061a"
      },
      "execution_count": null,
      "outputs": [
        {
          "output_type": "execute_result",
          "data": {
            "text/plain": [
              "8998590"
            ]
          },
          "metadata": {},
          "execution_count": 129
        }
      ]
    }
  ]
}