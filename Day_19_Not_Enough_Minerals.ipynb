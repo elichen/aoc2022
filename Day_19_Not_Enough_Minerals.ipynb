{
  "nbformat": 4,
  "nbformat_minor": 0,
  "metadata": {
    "colab": {
      "provenance": [],
      "authorship_tag": "ABX9TyM2ySJHhvSFCIiQXcWBp44u",
      "include_colab_link": true
    },
    "kernelspec": {
      "name": "python3",
      "display_name": "Python 3"
    },
    "language_info": {
      "name": "python"
    }
  },
  "cells": [
    {
      "cell_type": "markdown",
      "metadata": {
        "id": "view-in-github",
        "colab_type": "text"
      },
      "source": [
        "<a href=\"https://colab.research.google.com/github/elichen/aoc2022/blob/main/Day_19_Not_Enough_Minerals.ipynb\" target=\"_parent\"><img src=\"https://colab.research.google.com/assets/colab-badge.svg\" alt=\"Open In Colab\"/></a>"
      ]
    },
    {
      "cell_type": "code",
      "execution_count": null,
      "metadata": {
        "id": "Hh_TBfL-wRsS"
      },
      "outputs": [],
      "source": [
        "lines = '''Blueprint 1:  Each ore robot costs 4 ore.  Each clay robot costs 2 ore.  Each obsidian robot costs 3 ore and 14 clay.  Each geode robot costs 2 ore and 7 obsidian.\n",
        "Blueprint 2:  Each ore robot costs 2 ore.  Each clay robot costs 3 ore.  Each obsidian robot costs 3 ore and 8 clay.  Each geode robot costs 3 ore and 12 obsidian.'''\n",
        "lines = lines.split('\\n')"
      ]
    },
    {
      "cell_type": "code",
      "source": [
        "lines = open(\"input.txt\").readlines()"
      ],
      "metadata": {
        "id": "lQ7-SrRDT4Yk"
      },
      "execution_count": null,
      "outputs": []
    },
    {
      "cell_type": "code",
      "source": [
        "lines = [x.strip() for x in lines]"
      ],
      "metadata": {
        "id": "p1aEN9wiwZLO"
      },
      "execution_count": null,
      "outputs": []
    },
    {
      "cell_type": "code",
      "source": [
        "import re\n",
        "import math\n",
        "from tqdm import tqdm"
      ],
      "metadata": {
        "id": "ctryAWSZyXCI"
      },
      "execution_count": null,
      "outputs": []
    },
    {
      "cell_type": "code",
      "source": [
        "starting_state = {\"or\":1, \"cr\":0, \"br\":0, \"gr\":0,\n",
        "                  \"o\":0, \"c\":0, \"b\":0, \"g\":0}\n",
        "starting_t = 24\n",
        "def update_state(m, s):\n",
        "  s['o'] += s['or'] * m\n",
        "  s['c'] += s['cr'] * m\n",
        "  s['b'] += s['br'] * m\n",
        "  s['g'] += s['gr'] * m\n",
        "  return s\n",
        "# time left, blueprint, state, history\n",
        "import pdb\n",
        "def simulate(t, b, s, h):\n",
        "  if t < 1:\n",
        "    return s['g']\n",
        "  next_list = []\n",
        "  # if next build ore robot\n",
        "  if s['or'] <= max(([b['or']['o'], b['cr']['o'], b['br']['o'], b['gr']['o']])):\n",
        "    # import pdb; pdb.set_trace()\n",
        "    material_needed = max(b['or']['o'] - s['o'], 0)\n",
        "    mins_to_wait = math.ceil(material_needed/s['or']) + 1\n",
        "    if mins_to_wait < t:\n",
        "      new_state = update_state(mins_to_wait, s.copy())\n",
        "      new_state['o'] -= b['or']['o']\n",
        "      new_state['or'] += 1\n",
        "      next_list.append(simulate(t-mins_to_wait, b, new_state, h+[f\"{t-mins_to_wait} or\"]))\n",
        "  # if next build clay robot\n",
        "  if s['cr'] <= b['br']['c']:\n",
        "    material_needed = max(b['cr']['o'] - s['o'], 0)\n",
        "    mins_to_wait = math.ceil(material_needed/s['or']) + 1\n",
        "    if mins_to_wait < t:\n",
        "      new_state = update_state(mins_to_wait, s.copy())\n",
        "      new_state['o'] -= b['cr']['o']\n",
        "      new_state['cr'] += 1\n",
        "      next_list.append(simulate(t-mins_to_wait, b, new_state, h+[f\"{t-mins_to_wait} cr\"]))\n",
        "  # if next build obs robot\n",
        "  if s['cr'] > 0:\n",
        "    material_needed = max(b['br']['o'] - s['o'], 0)\n",
        "    mins_to_wait = math.ceil(material_needed/s['or']) + 1\n",
        "    material_needed_2 = b['br']['c'] - s['c']\n",
        "    mins_to_wait_2 = math.ceil(material_needed_2/s['cr']) + 1\n",
        "    mins_to_wait = mins_to_wait if mins_to_wait > mins_to_wait_2 else mins_to_wait_2\n",
        "    if mins_to_wait < t:\n",
        "      new_state = update_state(mins_to_wait, s.copy())\n",
        "      new_state['o'] -= b['br']['o']\n",
        "      new_state['c'] -= b['br']['c']\n",
        "      new_state['br'] += 1\n",
        "      next_list.append(simulate(t-mins_to_wait, b, new_state, h+[f\"{t-mins_to_wait} br\"]))\n",
        "  # if next build geo robot\n",
        "  if s['br'] > 0:\n",
        "    material_needed = max(b['gr']['o'] - s['o'], 0)\n",
        "    mins_to_wait = math.ceil(material_needed/s['or'])+1\n",
        "    material_needed_2 = b['gr']['b'] - s['b']\n",
        "    mins_to_wait_2 = math.ceil(material_needed_2/s['br'])+1\n",
        "    mins_to_wait = mins_to_wait if mins_to_wait > mins_to_wait_2 else mins_to_wait_2\n",
        "    if mins_to_wait < t:\n",
        "      new_state = update_state(mins_to_wait, s.copy())\n",
        "      new_state['o'] -= b['gr']['o']\n",
        "      new_state['b'] -= b['gr']['b']\n",
        "      new_state['gr'] += 1\n",
        "      next_list.append(simulate(t-mins_to_wait, b, new_state, h+[f\"{t-mins_to_wait} gr\"]))\n",
        "  if len(next_list) == 0:\n",
        "    new_state = s.copy()\n",
        "    update_state(t, new_state)\n",
        "    next_list.append(simulate(0, b, new_state, h))\n",
        "  return max(next_list)"
      ],
      "metadata": {
        "id": "_dag8WTEQNQK"
      },
      "execution_count": null,
      "outputs": []
    },
    {
      "cell_type": "code",
      "source": [
        "blueprint_format = {\"or\":{\"o\":0},\n",
        "                    \"cr\":{\"o\":0},\n",
        "                    \"br\":{\"o\":0,\"c\":0},\n",
        "                    \"gr\":{\"o\":0,\"b\":0}}\n",
        "quality = 0\n",
        "for line in tqdm(lines):\n",
        "  b = blueprint_format.copy()\n",
        "  (id, b['or']['o'],\n",
        "   b['cr']['o'],\n",
        "   b['br']['o'], b['br']['c'],\n",
        "   b['gr']['o'], b['gr']['b'])  = list(map(int,re.findall(r'\\d+', line)))\n",
        "  quality += id * simulate(24, b, starting_state, [])\n",
        "quality"
      ],
      "metadata": {
        "colab": {
          "base_uri": "https://localhost:8080/"
        },
        "id": "x4qtkIh9wa76",
        "outputId": "51a4bfa5-0211-4233-b695-c9e4ab3243c4"
      },
      "execution_count": null,
      "outputs": [
        {
          "output_type": "stream",
          "name": "stderr",
          "text": [
            "100%|██████████| 30/30 [00:34<00:00,  1.15s/it]\n"
          ]
        },
        {
          "output_type": "execute_result",
          "data": {
            "text/plain": [
              "1115"
            ]
          },
          "metadata": {},
          "execution_count": 84
        }
      ]
    },
    {
      "cell_type": "code",
      "source": [
        "blueprint_format = {\"or\":{\"o\":0},\n",
        "                    \"cr\":{\"o\":0},\n",
        "                    \"br\":{\"o\":0,\"c\":0},\n",
        "                    \"gr\":{\"o\":0,\"b\":0}}\n",
        "prod = 1\n",
        "for line in tqdm(lines[:3]):\n",
        "  b = blueprint_format.copy()\n",
        "  (id, b['or']['o'],\n",
        "   b['cr']['o'],\n",
        "   b['br']['o'], b['br']['c'],\n",
        "   b['gr']['o'], b['gr']['b'])  = list(map(int,re.findall(r'\\d+', line)))\n",
        "  prod *= simulate(32, b, starting_state, [])\n",
        "prod"
      ],
      "metadata": {
        "colab": {
          "base_uri": "https://localhost:8080/"
        },
        "id": "RnYefTZE6ULn",
        "outputId": "0be9e929-ee21-46ce-9d83-ea8a9b1d045d"
      },
      "execution_count": null,
      "outputs": [
        {
          "metadata": {
            "tags": null
          },
          "name": "stderr",
          "output_type": "stream",
          "text": [
            " 33%|███▎      | 1/3 [02:21<04:43, 141.85s/it]"
          ]
        }
      ]
    }
  ]
}