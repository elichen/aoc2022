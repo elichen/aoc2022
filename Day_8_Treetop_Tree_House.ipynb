{
  "nbformat": 4,
  "nbformat_minor": 0,
  "metadata": {
    "colab": {
      "provenance": [],
      "authorship_tag": "ABX9TyOtZQz93frrp6uuzDm8fuua",
      "include_colab_link": true
    },
    "kernelspec": {
      "name": "python3",
      "display_name": "Python 3"
    },
    "language_info": {
      "name": "python"
    }
  },
  "cells": [
    {
      "cell_type": "markdown",
      "metadata": {
        "id": "view-in-github",
        "colab_type": "text"
      },
      "source": [
        "<a href=\"https://colab.research.google.com/github/elichen/aoc2022/blob/main/Day_8_Treetop_Tree_House.ipynb\" target=\"_parent\"><img src=\"https://colab.research.google.com/assets/colab-badge.svg\" alt=\"Open In Colab\"/></a>"
      ]
    },
    {
      "cell_type": "code",
      "source": [
        "import numpy as np"
      ],
      "metadata": {
        "id": "kZroV8jr3K58"
      },
      "execution_count": null,
      "outputs": []
    },
    {
      "cell_type": "code",
      "execution_count": null,
      "metadata": {
        "id": "7HUJg1-WsYpI"
      },
      "outputs": [],
      "source": [
        "lines = open(\"input.txt\").read().splitlines()"
      ]
    },
    {
      "cell_type": "code",
      "source": [
        "# lines = '''30373\n",
        "# 25512\n",
        "# 65332\n",
        "# 33549\n",
        "# 35390'''\n",
        "# lines = lines.split('\\n')"
      ],
      "metadata": {
        "id": "wi3YOhcmuHbp"
      },
      "execution_count": null,
      "outputs": []
    },
    {
      "cell_type": "code",
      "source": [
        "w = len(lines[0])\n",
        "h = len(lines)"
      ],
      "metadata": {
        "id": "kdkdhiDVy1IF"
      },
      "execution_count": null,
      "outputs": []
    },
    {
      "cell_type": "code",
      "source": [
        "def height(x,y):\n",
        "  return int(lines[y][x])"
      ],
      "metadata": {
        "id": "uSXq4J8ouR1m"
      },
      "execution_count": null,
      "outputs": []
    },
    {
      "cell_type": "code",
      "source": [
        "views = np.array([[[-1]*4]*w]*h)\n",
        "\n",
        "# dir: l,r,u,d\n",
        "def calc_view(x,y,dir):\n",
        "  if x < 0 or x >= w or y < 0 or y >= h:\n",
        "    return 0\n",
        "  if views[y,x,dir] != -1:\n",
        "    return views[y,x,dir]\n",
        "  views[y,x,dir] = height(x,y)\n",
        "  if dir == 0:\n",
        "    look_x, look_y = x-1, y\n",
        "  elif dir == 1:\n",
        "    look_x, look_y = x+1, y\n",
        "  elif dir == 2:\n",
        "    look_x, look_y = x, y-1\n",
        "  elif dir == 3:\n",
        "    look_x, look_y = x, y+1\n",
        "  tmp = calc_view(look_x,look_y,dir)\n",
        "  if tmp > views[y,x,dir]:\n",
        "    views[y,x,dir] = tmp\n",
        "  return views[y,x,dir]"
      ],
      "metadata": {
        "id": "YB1S6gB8w8O7"
      },
      "execution_count": null,
      "outputs": []
    },
    {
      "cell_type": "code",
      "source": [
        "count = 0\n",
        "for x in range(w):\n",
        "  for y in range(h):\n",
        "      t = min(calc_view(x-1,y,0),\n",
        "              calc_view(x+1,y,1),\n",
        "              calc_view(x,y-1,2),\n",
        "              calc_view(x,y+1,3))\n",
        "      if (x == 0 or x == w-1 or y == 0 or y == h-1 or\n",
        "          t < height(x,y)):\n",
        "        # print(f\"{x},{y}\")\n",
        "        count += 1\n",
        "count"
      ],
      "metadata": {
        "colab": {
          "base_uri": "https://localhost:8080/"
        },
        "id": "kOogueQJ1eHs",
        "outputId": "09d35a60-5581-497f-e727-f330b19785af"
      },
      "execution_count": null,
      "outputs": [
        {
          "output_type": "execute_result",
          "data": {
            "text/plain": [
              "1807"
            ]
          },
          "metadata": {},
          "execution_count": 69
        }
      ]
    },
    {
      "cell_type": "code",
      "source": [
        "def score(x,y,dir):\n",
        "  my_height = height(x,y)\n",
        "  if dir == 0:\n",
        "    dx, dy = -1, 0\n",
        "  elif dir == 1:\n",
        "    dx, dy = 1, 0\n",
        "  elif dir == 2:\n",
        "    dx, dy = 0, -1\n",
        "  elif dir == 3:\n",
        "    dx,dy = 0, 1\n",
        "  score = 0\n",
        "  x += dx\n",
        "  y += dy\n",
        "  while (x >= 0 and x < w and\n",
        "         y >= 0 and y < h):\n",
        "    score += 1\n",
        "    if height(x,y) >= my_height:\n",
        "      break\n",
        "    x += dx\n",
        "    y += dy\n",
        "  return score"
      ],
      "metadata": {
        "id": "qB7GYMmFTKTD"
      },
      "execution_count": null,
      "outputs": []
    },
    {
      "cell_type": "code",
      "source": [
        "max_score = 0\n",
        "for x in range(w):\n",
        "  for y in range(h):\n",
        "    t = score(x,y,0)*score(x,y,1)*score(x,y,2)*score(x,y,3)\n",
        "    if t > max_score:\n",
        "      max_score = t\n",
        "max_score"
      ],
      "metadata": {
        "colab": {
          "base_uri": "https://localhost:8080/"
        },
        "id": "QvaW9QKkTB8D",
        "outputId": "9c4988fb-33a7-4a33-f9be-098fcda9db06"
      },
      "execution_count": null,
      "outputs": [
        {
          "output_type": "execute_result",
          "data": {
            "text/plain": [
              "480000"
            ]
          },
          "metadata": {},
          "execution_count": 71
        }
      ]
    }
  ]
}