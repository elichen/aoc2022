{
  "nbformat": 4,
  "nbformat_minor": 0,
  "metadata": {
    "colab": {
      "provenance": [],
      "authorship_tag": "ABX9TyM/BZwl6DZuGQFIuMrNjg3P",
      "include_colab_link": true
    },
    "kernelspec": {
      "name": "python3",
      "display_name": "Python 3"
    },
    "language_info": {
      "name": "python"
    }
  },
  "cells": [
    {
      "cell_type": "markdown",
      "metadata": {
        "id": "view-in-github",
        "colab_type": "text"
      },
      "source": [
        "<a href=\"https://colab.research.google.com/github/elichen/aoc2022/blob/main/Day_13_Distress_Signal.ipynb\" target=\"_parent\"><img src=\"https://colab.research.google.com/assets/colab-badge.svg\" alt=\"Open In Colab\"/></a>"
      ]
    },
    {
      "cell_type": "code",
      "execution_count": null,
      "metadata": {
        "id": "zmTfr6FcHQuG"
      },
      "outputs": [],
      "source": [
        "lines = open(\"input.txt\").readlines()\n"
      ]
    },
    {
      "cell_type": "code",
      "source": [
        "# lines = '''[1,1,3,1,1]\n",
        "# [1,1,5,1,1]\n",
        "\n",
        "# [[1],[2,3,4]]\n",
        "# [[1],4]\n",
        "\n",
        "# [9]\n",
        "# [[8,7,6]]\n",
        "\n",
        "# [[4,4],4,4]\n",
        "# [[4,4],4,4,4]\n",
        "\n",
        "# [7,7,7,7]\n",
        "# [7,7,7]\n",
        "\n",
        "# []\n",
        "# [3]\n",
        "\n",
        "# [[[]]]\n",
        "# [[]]\n",
        "\n",
        "# [1,[2,[3,[4,[5,6,7]]]],8,9]\n",
        "# [1,[2,[3,[4,[5,6,0]]]],8,9]'''\n",
        "# lines = lines.split('\\n')"
      ],
      "metadata": {
        "id": "Xh94h10TPPp0"
      },
      "execution_count": null,
      "outputs": []
    },
    {
      "cell_type": "code",
      "source": [
        "lines = [x.strip() for x in lines]"
      ],
      "metadata": {
        "id": "HJq0m7ZRPRTJ"
      },
      "execution_count": null,
      "outputs": []
    },
    {
      "cell_type": "code",
      "source": [
        "import re"
      ],
      "metadata": {
        "id": "Ocikc86ifmWC"
      },
      "execution_count": null,
      "outputs": []
    },
    {
      "cell_type": "code",
      "source": [
        "def parse_item(str,i):\n",
        "  # print(f\"parse_item {str[i:]}\")\n",
        "  if str[i] == \"[\":\n",
        "    return parse_list(str,i+1)\n",
        "  else:\n",
        "    end = re.search(\"\\D\",str[i:]).start(0)\n",
        "    return int(str[i:i+end]),i+end"
      ],
      "metadata": {
        "id": "udGLhlXUfSPV"
      },
      "execution_count": null,
      "outputs": []
    },
    {
      "cell_type": "code",
      "source": [
        "def parse_list(str,i):\n",
        "  # print(f\"parse_list {str[i:]}\")\n",
        "  items = []\n",
        "  while i < len(str):\n",
        "    if str[i] == '[':\n",
        "      item,next_i = parse_list(str,i+1)\n",
        "      items.append(item)\n",
        "      i = next_i\n",
        "    elif str[i] == ']':\n",
        "      return items,i+1\n",
        "    elif str[i] == ',':\n",
        "      i += 1\n",
        "      continue\n",
        "    else:\n",
        "      item,next_i = parse_item(str,i)\n",
        "      items.append(item)\n",
        "      i = next_i\n",
        "  return items,i"
      ],
      "metadata": {
        "id": "ugXRoVQAhQtA"
      },
      "execution_count": null,
      "outputs": []
    },
    {
      "cell_type": "code",
      "source": [
        "compare([[1],[2,3,4]], [[1],4])"
      ],
      "metadata": {
        "colab": {
          "base_uri": "https://localhost:8080/"
        },
        "id": "9YmpMR9ns2B4",
        "outputId": "c9517659-ee64-4c42-aee3-92a0d213c96c"
      },
      "execution_count": null,
      "outputs": [
        {
          "output_type": "execute_result",
          "data": {
            "text/plain": [
              "True"
            ]
          },
          "metadata": {},
          "execution_count": 191
        }
      ]
    },
    {
      "cell_type": "code",
      "source": [
        "def compare(left,right):\n",
        "  if type(left) == type(right) == list:\n",
        "    for i in range(len(left)):\n",
        "      if i >= len(right):\n",
        "        return False\n",
        "      result = compare(left[i],right[i])\n",
        "      if result != None:\n",
        "        return result\n",
        "    if len(left) < len(right):\n",
        "      return True\n",
        "    else:\n",
        "      return None\n",
        "  elif type(left) == type(right) == int:\n",
        "    # print(\"comp int\", left,right)\n",
        "    if left == right:\n",
        "      return None\n",
        "    else:\n",
        "      return left < right\n",
        "  else:\n",
        "    if type(left) == int:\n",
        "      return compare([left],right)\n",
        "    else:\n",
        "      return compare(left,[right])\n",
        "  return True"
      ],
      "metadata": {
        "id": "pGH91ItTmd-x"
      },
      "execution_count": null,
      "outputs": []
    },
    {
      "cell_type": "code",
      "source": [
        "lines_i = 0\n",
        "total = 0\n",
        "while lines_i < len(lines):\n",
        "  left_list = parse_item(lines[lines_i],0)[0]; lines_i+=1\n",
        "  right_list = parse_item(lines[lines_i],0)[0]; lines_i+=1\n",
        "  if compare(left_list,right_list):\n",
        "    total += (lines_i+1)//3\n",
        "  lines_i+=1\n",
        "total"
      ],
      "metadata": {
        "colab": {
          "base_uri": "https://localhost:8080/"
        },
        "id": "KmdhEPSdPWTD",
        "outputId": "471c7a41-6605-4507-c5e8-689fa70fe5a1"
      },
      "execution_count": null,
      "outputs": [
        {
          "output_type": "execute_result",
          "data": {
            "text/plain": [
              "4821"
            ]
          },
          "metadata": {},
          "execution_count": 193
        }
      ]
    },
    {
      "cell_type": "code",
      "source": [
        "lines += [\"[[2]]\",\"[[6]]\"]"
      ],
      "metadata": {
        "id": "a6GvFJ2Pux7o"
      },
      "execution_count": null,
      "outputs": []
    },
    {
      "cell_type": "code",
      "source": [
        "lines_i = 0\n",
        "result = []\n",
        "for line in lines:\n",
        "  if line == \"\": continue\n",
        "  l = parse_item(line,0)[0]\n",
        "  i = 0\n",
        "  while(i < len(result)):\n",
        "    # print(i,result[i],l)\n",
        "    if compare(l,result[i]): break\n",
        "    i += 1\n",
        "  result.insert(i,l)\n",
        "(result.index([[2]])+1) * (result.index([[6]])+1)"
      ],
      "metadata": {
        "colab": {
          "base_uri": "https://localhost:8080/"
        },
        "id": "sdOygjXfut01",
        "outputId": "57d11b24-47ba-4162-eb19-2a40a25306e7"
      },
      "execution_count": null,
      "outputs": [
        {
          "output_type": "execute_result",
          "data": {
            "text/plain": [
              "21890"
            ]
          },
          "metadata": {},
          "execution_count": 195
        }
      ]
    }
  ]
}