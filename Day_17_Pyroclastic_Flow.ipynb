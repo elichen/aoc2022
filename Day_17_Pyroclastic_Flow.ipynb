{
  "nbformat": 4,
  "nbformat_minor": 0,
  "metadata": {
    "colab": {
      "provenance": [],
      "authorship_tag": "ABX9TyM1ezRp7FYkR8xLXYOQRx9h",
      "include_colab_link": true
    },
    "kernelspec": {
      "name": "python3",
      "display_name": "Python 3"
    },
    "language_info": {
      "name": "python"
    }
  },
  "cells": [
    {
      "cell_type": "markdown",
      "metadata": {
        "id": "view-in-github",
        "colab_type": "text"
      },
      "source": [
        "<a href=\"https://colab.research.google.com/github/elichen/aoc2022/blob/main/Day_17_Pyroclastic_Flow.ipynb\" target=\"_parent\"><img src=\"https://colab.research.google.com/assets/colab-badge.svg\" alt=\"Open In Colab\"/></a>"
      ]
    },
    {
      "cell_type": "code",
      "execution_count": null,
      "metadata": {
        "colab": {
          "base_uri": "https://localhost:8080/"
        },
        "id": "mXWSDe2VhEOv",
        "outputId": "245085b2-abbf-457c-b225-d76101eebd81"
      },
      "outputs": [
        {
          "output_type": "execute_result",
          "data": {
            "text/plain": [
              "40"
            ]
          },
          "metadata": {},
          "execution_count": 15
        }
      ],
      "source": [
        "line = '>>><<><>><<<>><>>><<<>>><<<><<<>><>><<>>'\n",
        "len(line)"
      ]
    },
    {
      "cell_type": "code",
      "source": [
        "line = open(\"input.txt\").read().strip()"
      ],
      "metadata": {
        "id": "_nvRVRX44ggN"
      },
      "execution_count": null,
      "outputs": []
    },
    {
      "cell_type": "code",
      "source": [
        "import numpy as np"
      ],
      "metadata": {
        "id": "NsSU8mJViKPG"
      },
      "execution_count": null,
      "outputs": []
    },
    {
      "cell_type": "code",
      "source": [
        "rocks = [\n",
        "np.array([[1,1,1,1]]),\n",
        "np.array([[0,1,0],\n",
        "          [1,1,1],\n",
        "          [0,1,0]]),\n",
        "np.array([[0,0,1],\n",
        "          [0,0,1],\n",
        "          [1,1,1]]),\n",
        "np.array([[1],\n",
        "          [1],\n",
        "          [1],\n",
        "          [1]]),\n",
        "np.array([[1,1],\n",
        "          [1,1]])\n",
        "]"
      ],
      "metadata": {
        "id": "7r5WohowiQc5"
      },
      "execution_count": null,
      "outputs": []
    },
    {
      "cell_type": "code",
      "source": [
        "pit = np.ones([1,7])\n",
        "for _ in range(4):\n",
        "  pit = np.insert(pit, 0, 0, axis=0)\n",
        "highest_rock = 4\n",
        "rock = rocks[0]\n",
        "rock_row, rock_col = 0,2\n",
        "max_rocks = 2022\n",
        "cur_rock = 0\n",
        "wind_i = 0\n",
        "while cur_rock < max_rocks:\n",
        "  # debug print\n",
        "  # copy = np.array(pit)\n",
        "  # copy[rock_row:rock_row+rock.shape[0], rock_col:rock_col+rock.shape[1]] += rock*2\n",
        "  # print(copy)\n",
        "  # print(highest_rock)\n",
        "  # wind push\n",
        "  wind = line[wind_i]\n",
        "  wind_i = (wind_i+1) % len(line)\n",
        "  if wind == '>':\n",
        "    wind_offset = 1\n",
        "  else:\n",
        "    wind_offset = -1\n",
        "  if (rock_col+wind_offset >= 0 and\n",
        "      rock_col+wind_offset+rock.shape[1] <= 7 and\n",
        "      np.sum(rock * pit[rock_row:rock_row+rock.shape[0], rock_col+wind_offset:rock_col+wind_offset+rock.shape[1]]) == 0):\n",
        "    rock_col += wind_offset\n",
        "  # fall\n",
        "  rock_row += 1\n",
        "  if np.sum(rock * pit[rock_row:rock_row+rock.shape[0], rock_col:rock_col+rock.shape[1]]) > 0:\n",
        "    rock_row -= 1\n",
        "    pit[rock_row:rock_row+rock.shape[0], rock_col:rock_col+rock.shape[1]] += rock\n",
        "    highest_rock = min(rock_row,highest_rock)\n",
        "    cur_rock += 1\n",
        "    rock = rocks[cur_rock%len(rocks)]\n",
        "    while highest_rock <= 2 + rock.shape[0]:\n",
        "      pit = np.insert(pit, 0, 0, axis=0)\n",
        "      highest_rock += 1\n",
        "    rock_row, rock_col = highest_rock-rock.shape[0]-3,2"
      ],
      "metadata": {
        "id": "3Xi55BIMhMTo"
      },
      "execution_count": null,
      "outputs": []
    },
    {
      "cell_type": "code",
      "source": [
        "pit.shape[0]-highest_rock-1"
      ],
      "metadata": {
        "colab": {
          "base_uri": "https://localhost:8080/"
        },
        "id": "JB01fB4rjtjq",
        "outputId": "e180715e-61ae-43fa-99f1-667e43d46c4d"
      },
      "execution_count": null,
      "outputs": [
        {
          "output_type": "execute_result",
          "data": {
            "text/plain": [
              "3065"
            ]
          },
          "metadata": {},
          "execution_count": 20
        }
      ]
    },
    {
      "cell_type": "code",
      "source": [
        "len(line)"
      ],
      "metadata": {
        "colab": {
          "base_uri": "https://localhost:8080/"
        },
        "id": "bGq8FJ-ZH5EO",
        "outputId": "ada8b287-e93b-47cd-8688-8707498c4c37"
      },
      "execution_count": null,
      "outputs": [
        {
          "output_type": "execute_result",
          "data": {
            "text/plain": [
              "10091"
            ]
          },
          "metadata": {},
          "execution_count": 21
        }
      ]
    },
    {
      "cell_type": "code",
      "source": [
        "def run(max_rocks):\n",
        "  global pit\n",
        "  pit = np.ones([1,7])\n",
        "  for _ in range(4):\n",
        "    pit = np.insert(pit, 0, 0, axis=0)\n",
        "  highest_rock = 4\n",
        "  rock = rocks[0]\n",
        "  rock_row, rock_col = 0,2\n",
        "  cur_rock = 0\n",
        "  wind_i = 0\n",
        "  while cur_rock < max_rocks:\n",
        "    wind = line[wind_i]\n",
        "    wind_i = (wind_i+1) % len(line)\n",
        "    if wind == '>':\n",
        "      wind_offset = 1\n",
        "    else:\n",
        "      wind_offset = -1\n",
        "    if (rock_col+wind_offset >= 0 and\n",
        "        rock_col+wind_offset+rock.shape[1] <= 7 and\n",
        "        np.sum(rock * pit[rock_row:rock_row+rock.shape[0], rock_col+wind_offset:rock_col+wind_offset+rock.shape[1]]) == 0):\n",
        "      rock_col += wind_offset\n",
        "    # fall\n",
        "    rock_row += 1\n",
        "    if np.sum(rock * pit[rock_row:rock_row+rock.shape[0], rock_col:rock_col+rock.shape[1]]) > 0:\n",
        "      rock_row -= 1\n",
        "      pit[rock_row:rock_row+rock.shape[0], rock_col:rock_col+rock.shape[1]] += rock\n",
        "      highest_rock = min(rock_row,highest_rock)\n",
        "      cur_rock += 1\n",
        "      rock = rocks[cur_rock%len(rocks)]\n",
        "      while highest_rock <= 2 + rock.shape[0]:\n",
        "        pit = np.insert(pit, 0, 0, axis=0)\n",
        "        highest_rock += 1\n",
        "      rock_row, rock_col = highest_rock-rock.shape[0]-3,2\n",
        "  return pit.shape[0]-highest_rock-1\n",
        "run(2022)"
      ],
      "metadata": {
        "colab": {
          "base_uri": "https://localhost:8080/"
        },
        "id": "jPUnDBEyHOZ8",
        "outputId": "8679395b-670a-4499-91ee-fa8d47a147e4"
      },
      "execution_count": null,
      "outputs": [
        {
          "output_type": "execute_result",
          "data": {
            "text/plain": [
              "3065"
            ]
          },
          "metadata": {},
          "execution_count": 22
        }
      ]
    },
    {
      "cell_type": "code",
      "source": [
        "x = [x*x*10 for x in range(10)]\n",
        "y = [run(i) for i in x]"
      ],
      "metadata": {
        "id": "IEsPysZxYQCY"
      },
      "execution_count": null,
      "outputs": []
    },
    {
      "cell_type": "code",
      "source": [
        "x,y"
      ],
      "metadata": {
        "colab": {
          "base_uri": "https://localhost:8080/"
        },
        "id": "RM4xWoATY1ND",
        "outputId": "58d1eed1-cfd8-47be-b122-720870623100"
      },
      "execution_count": null,
      "outputs": [
        {
          "output_type": "execute_result",
          "data": {
            "text/plain": [
              "([0, 10, 40, 90, 160, 250, 360, 490, 640, 810],\n",
              " [0, 14, 62, 135, 234, 364, 545, 733, 964, 1205])"
            ]
          },
          "metadata": {},
          "execution_count": 24
        }
      ]
    },
    {
      "cell_type": "code",
      "source": [
        "import matplotlib.pyplot as plt\n",
        "plt.plot(x, y, 'ro')\n",
        "plt.show()"
      ],
      "metadata": {
        "colab": {
          "base_uri": "https://localhost:8080/",
          "height": 265
        },
        "id": "SW_3aZqJKD6_",
        "outputId": "2b1d1e90-8e2b-476c-fe92-0bc9bb5093f9"
      },
      "execution_count": null,
      "outputs": [
        {
          "output_type": "display_data",
          "data": {
            "text/plain": [
              "<Figure size 432x288 with 1 Axes>"
            ],
            "image/png": "[encoded data removed]"
          },
          "metadata": {
            "needs_background": "light"
          }
        }
      ]
    },
    {
      "cell_type": "code",
      "source": [
        "def run_with_history(max_rocks):\n",
        "  global pit\n",
        "  pit = np.ones([1,7])\n",
        "  for _ in range(4):\n",
        "    pit = np.insert(pit, 0, 0, axis=0)\n",
        "  highest_rock = 4\n",
        "  heights = []\n",
        "  prev_height = 0\n",
        "  rock = rocks[0]\n",
        "  rock_row, rock_col = 0,2\n",
        "  cur_rock = 0\n",
        "  wind_i = 0\n",
        "  while cur_rock < max_rocks:\n",
        "    wind = line[wind_i]\n",
        "    wind_i = (wind_i+1) % len(line)\n",
        "    if wind == '>':\n",
        "      wind_offset = 1\n",
        "    else:\n",
        "      wind_offset = -1\n",
        "    if (rock_col+wind_offset >= 0 and\n",
        "        rock_col+wind_offset+rock.shape[1] <= 7 and\n",
        "        np.sum(rock * pit[rock_row:rock_row+rock.shape[0], rock_col+wind_offset:rock_col+wind_offset+rock.shape[1]]) == 0):\n",
        "      rock_col += wind_offset\n",
        "    # fall\n",
        "    rock_row += 1\n",
        "    if np.sum(rock * pit[rock_row:rock_row+rock.shape[0], rock_col:rock_col+rock.shape[1]]) > 0:\n",
        "      rock_row -= 1\n",
        "      pit[rock_row:rock_row+rock.shape[0], rock_col:rock_col+rock.shape[1]] += rock\n",
        "      highest_rock = min(rock_row,highest_rock)\n",
        "      cur_rock += 1\n",
        "      rock = rocks[cur_rock%len(rocks)]\n",
        "      while highest_rock <= 2 + rock.shape[0]:\n",
        "        pit = np.insert(pit, 0, 0, axis=0)\n",
        "        highest_rock += 1\n",
        "      rock_row, rock_col = highest_rock-rock.shape[0]-3,2\n",
        "      heights.append(pit.shape[0]-highest_rock-1 - prev_height)\n",
        "      prev_height = pit.shape[0]-highest_rock-1\n",
        "  return heights\n",
        "history = run_with_history(10000)"
      ],
      "metadata": {
        "id": "zHj0OlSVmonr"
      },
      "execution_count": null,
      "outputs": []
    },
    {
      "cell_type": "code",
      "source": [
        "chunk = 50\n",
        "prefix, segment = 0,0\n",
        "for i in range(len(history)//2):\n",
        "  for j in range(i+1,len(history)//2):\n",
        "    if history[i:i+chunk] == history[j:j+chunk]:\n",
        "      if prefix == 0:\n",
        "        prefix = i\n",
        "      elif segment == 0:\n",
        "        segment = j-prefix\n",
        "        break\n",
        "prefix, segment"
      ],
      "metadata": {
        "colab": {
          "base_uri": "https://localhost:8080/"
        },
        "id": "IGJIKFoGTvyg",
        "outputId": "f027ff53-447a-4c72-ec33-83ae7c6f6eb6"
      },
      "execution_count": null,
      "outputs": [
        {
          "output_type": "execute_result",
          "data": {
            "text/plain": [
              "(1110, 3470)"
            ]
          },
          "metadata": {},
          "execution_count": 31
        }
      ]
    },
    {
      "cell_type": "code",
      "source": [
        "tall_blocks = 1000000000000\n",
        "num_segments = (tall_blocks - prefix) // segment\n",
        "leftover = (tall_blocks - prefix) % segment\n",
        "sum(history[:prefix])+num_segments*sum(history[prefix:prefix+segment])+sum(history[prefix:prefix+leftover])"
      ],
      "metadata": {
        "colab": {
          "base_uri": "https://localhost:8080/"
        },
        "id": "2SwVEyResigl",
        "outputId": "5dd97f21-e00f-46f0-a4a9-ce552043d56a"
      },
      "execution_count": null,
      "outputs": [
        {
          "output_type": "execute_result",
          "data": {
            "text/plain": [
              "1562536022966"
            ]
          },
          "metadata": {},
          "execution_count": 32
        }
      ]
    }
  ]
}