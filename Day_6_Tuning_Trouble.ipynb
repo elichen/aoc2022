{
  "nbformat": 4,
  "nbformat_minor": 0,
  "metadata": {
    "colab": {
      "provenance": [],
      "authorship_tag": "ABX9TyOvPXqdSdMB82QJA5JYemDy",
      "include_colab_link": true
    },
    "kernelspec": {
      "name": "python3",
      "display_name": "Python 3"
    },
    "language_info": {
      "name": "python"
    }
  },
  "cells": [
    {
      "cell_type": "markdown",
      "metadata": {
        "id": "view-in-github",
        "colab_type": "text"
      },
      "source": [
        "<a href=\"https://colab.research.google.com/github/elichen/aoc2022/blob/main/Day_6_Tuning_Trouble.ipynb\" target=\"_parent\"><img src=\"https://colab.research.google.com/assets/colab-badge.svg\" alt=\"Open In Colab\"/></a>"
      ]
    },
    {
      "cell_type": "code",
      "execution_count": null,
      "metadata": {
        "id": "w8BfPscTXIms"
      },
      "outputs": [],
      "source": [
        "input = open(\"input.txt\").read()"
      ]
    },
    {
      "cell_type": "code",
      "source": [
        "# input = \"mjqjpqmgbljsphdztnvjfqwrcgsmlb\"\n",
        "# input = \"bvwbjplbgvbhsrlpgdmjqwftvncz\"\n",
        "# input = \"nppdvjthqldpwncqszvftbrmjlhg\"\n",
        "# input = \"nznrnfrfntjfmvfwmzdfjlvtqnbhcprsg\"\n",
        "# input = \"zcfzfwzzqfrljwzlrfnpqdbhtmscgvjw\""
      ],
      "metadata": {
        "id": "i7eua80WX3rU"
      },
      "execution_count": null,
      "outputs": []
    },
    {
      "cell_type": "code",
      "source": [
        "last4 = []\n",
        "for i,c in enumerate(input):\n",
        "  if len(last4) >= 4: last4.pop(0)\n",
        "  last4.append(c)\n",
        "  if len(set(last4)) == 4:\n",
        "    print(i+1)\n",
        "    break"
      ],
      "metadata": {
        "colab": {
          "base_uri": "https://localhost:8080/"
        },
        "id": "akL8_ZoIYAjO",
        "outputId": "dec51e81-f52f-4875-af64-1c3fadad3c3a"
      },
      "execution_count": null,
      "outputs": [
        {
          "output_type": "stream",
          "name": "stdout",
          "text": [
            "1779\n"
          ]
        }
      ]
    },
    {
      "cell_type": "code",
      "source": [
        "last14 = []\n",
        "for i,c in enumerate(input):\n",
        "  if len(last14) >= 14: last14.pop(0)\n",
        "  last14.append(c)\n",
        "  if len(set(last14)) == 14:\n",
        "    print(i+1)\n",
        "    break"
      ],
      "metadata": {
        "colab": {
          "base_uri": "https://localhost:8080/"
        },
        "id": "9m-SB9fzYS9Z",
        "outputId": "1b654c33-9659-4987-85a9-06477ce47789"
      },
      "execution_count": null,
      "outputs": [
        {
          "output_type": "stream",
          "name": "stdout",
          "text": [
            "2635\n"
          ]
        }
      ]
    },
    {
      "cell_type": "code",
      "source": [],
      "metadata": {
        "id": "4PV5Ic0JZnj1"
      },
      "execution_count": null,
      "outputs": []
    }
  ]
}