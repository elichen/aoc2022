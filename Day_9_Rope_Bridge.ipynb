{
  "nbformat": 4,
  "nbformat_minor": 0,
  "metadata": {
    "colab": {
      "provenance": [],
      "authorship_tag": "ABX9TyP68tGe4IBfqLDI+Cb8MWix",
      "include_colab_link": true
    },
    "kernelspec": {
      "name": "python3",
      "display_name": "Python 3"
    },
    "language_info": {
      "name": "python"
    }
  },
  "cells": [
    {
      "cell_type": "markdown",
      "metadata": {
        "id": "view-in-github",
        "colab_type": "text"
      },
      "source": [
        "<a href=\"https://colab.research.google.com/github/elichen/aoc2022/blob/main/Day_9_Rope_Bridge.ipynb\" target=\"_parent\"><img src=\"https://colab.research.google.com/assets/colab-badge.svg\" alt=\"Open In Colab\"/></a>"
      ]
    },
    {
      "cell_type": "code",
      "source": [
        "import numpy as np"
      ],
      "metadata": {
        "id": "RxAmeA3lHQWI"
      },
      "execution_count": null,
      "outputs": []
    },
    {
      "cell_type": "code",
      "execution_count": null,
      "metadata": {
        "id": "RJ5Rdqjx_2PZ"
      },
      "outputs": [],
      "source": [
        "lines = open(\"input.txt\").readlines()"
      ]
    },
    {
      "cell_type": "code",
      "source": [
        "# lines = '''R 4\n",
        "# U 4\n",
        "# L 3\n",
        "# D 1\n",
        "# R 4\n",
        "# D 1\n",
        "# L 5\n",
        "# R 2'''\n",
        "# lines = lines.split('\\n')\n",
        "\n",
        "# lines = '''R 5\n",
        "# U 8\n",
        "# L 8\n",
        "# D 3\n",
        "# R 17\n",
        "# D 10\n",
        "# L 25\n",
        "# U 20'''\n",
        "# lines = lines.split('\\n')"
      ],
      "metadata": {
        "id": "kaMA6u63A7oC"
      },
      "execution_count": null,
      "outputs": []
    },
    {
      "cell_type": "code",
      "source": [
        "def follow(my_x, my_y, target_x, target_y):\n",
        "  d_x,d_y = target_x-my_x, target_y-my_y\n",
        "  if abs(d_x)<=1 and abs(d_y)<=1:\n",
        "    return my_x, my_y\n",
        "  if abs(d_x) == 2:\n",
        "    d_x = d_x // 2\n",
        "  if abs(d_y) == 2:\n",
        "    d_y = d_y // 2\n",
        "  return my_x+d_x, my_y+d_y"
      ],
      "metadata": {
        "id": "YmXiYUfZVb8N"
      },
      "execution_count": null,
      "outputs": []
    },
    {
      "cell_type": "code",
      "source": [
        "h_x, h_y = 0, 0\n",
        "t_x, t_y = 0, 0\n",
        "t_visited = set([\"0,0\"])\n",
        "for line in lines:\n",
        "  dir, steps = line.split(' ')\n",
        "  for _ in range(int(steps)):\n",
        "    if dir == 'L':\n",
        "      h_x -= 1\n",
        "    elif dir == 'R':\n",
        "      h_x += 1\n",
        "    elif dir == 'U':\n",
        "      h_y += 1\n",
        "    elif dir == 'D':\n",
        "      h_y -= 1\n",
        "    t_x, t_y = follow(t_x, t_y, h_x, h_y)\n",
        "    t_visited.add(f\"{t_x},{t_y}\")\n",
        "len(t_visited)"
      ],
      "metadata": {
        "colab": {
          "base_uri": "https://localhost:8080/"
        },
        "id": "op6_H551BEA6",
        "outputId": "e6234fde-e2cf-4636-cb3c-b445314b0895"
      },
      "execution_count": null,
      "outputs": [
        {
          "output_type": "execute_result",
          "data": {
            "text/plain": [
              "6391"
            ]
          },
          "metadata": {},
          "execution_count": 155
        }
      ]
    },
    {
      "cell_type": "code",
      "source": [
        "node = np.array([[0,0]]*10)\n",
        "t_visited = set([\"0,0\"])\n",
        "for line in lines:\n",
        "  dir, steps = line.split(' ')\n",
        "  for _ in range(int(steps)):\n",
        "    if dir == 'L':\n",
        "      node[0][0] -= 1\n",
        "    elif dir == 'R':\n",
        "      node[0][0] += 1\n",
        "    elif dir == 'U':\n",
        "      node[0][1] += 1\n",
        "    elif dir == 'D':\n",
        "      node[0][1] -= 1\n",
        "    for i in range(1,10):\n",
        "      node[i][0],node[i][1] = follow(node[i][0],node[i][1], node[i-1][0], node[i-1][1])\n",
        "    t_visited.add(f\"{node[9][0]},{node[9][1]}\")\n",
        "len(t_visited)"
      ],
      "metadata": {
        "colab": {
          "base_uri": "https://localhost:8080/"
        },
        "id": "RuVuNGDwj3Yv",
        "outputId": "f856f2f8-20cf-4149-861d-0d1acd967b94"
      },
      "execution_count": null,
      "outputs": [
        {
          "output_type": "execute_result",
          "data": {
            "text/plain": [
              "2593"
            ]
          },
          "metadata": {},
          "execution_count": 156
        }
      ]
    },
    {
      "cell_type": "code",
      "source": [
        "node"
      ],
      "metadata": {
        "colab": {
          "base_uri": "https://localhost:8080/"
        },
        "id": "UiIKmK-bC2KW",
        "outputId": "562130f3-61ed-40f1-ff03-b4825ed408f2"
      },
      "execution_count": null,
      "outputs": [
        {
          "output_type": "execute_result",
          "data": {
            "text/plain": [
              "array([[-173,  503],\n",
              "       [-173,  502],\n",
              "       [-173,  501],\n",
              "       [-173,  500],\n",
              "       [-173,  499],\n",
              "       [-173,  498],\n",
              "       [-173,  497],\n",
              "       [-173,  496],\n",
              "       [-173,  495],\n",
              "       [-174,  495]])"
            ]
          },
          "metadata": {},
          "execution_count": 157
        }
      ]
    }
  ]
}