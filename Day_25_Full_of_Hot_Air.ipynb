{
  "nbformat": 4,
  "nbformat_minor": 0,
  "metadata": {
    "colab": {
      "provenance": [],
      "authorship_tag": "ABX9TyOsEtNgFQDHYO2HDgQXIaLN",
      "include_colab_link": true
    },
    "kernelspec": {
      "name": "python3",
      "display_name": "Python 3"
    },
    "language_info": {
      "name": "python"
    }
  },
  "cells": [
    {
      "cell_type": "markdown",
      "metadata": {
        "id": "view-in-github",
        "colab_type": "text"
      },
      "source": [
        "<a href=\"https://colab.research.google.com/github/elichen/aoc2022/blob/main/Day_25_Full_of_Hot_Air.ipynb\" target=\"_parent\"><img src=\"https://colab.research.google.com/assets/colab-badge.svg\" alt=\"Open In Colab\"/></a>"
      ]
    },
    {
      "cell_type": "code",
      "execution_count": null,
      "metadata": {
        "id": "HbwkPsjZ11mh"
      },
      "outputs": [],
      "source": [
        "input = '''1=-0-2\n",
        "12111\n",
        "2=0=\n",
        "21\n",
        "2=01\n",
        "111\n",
        "20012\n",
        "112\n",
        "1=-1=\n",
        "1-12\n",
        "12\n",
        "1=\n",
        "122'''\n",
        "input = input.split('\\n')"
      ]
    },
    {
      "cell_type": "code",
      "source": [
        "input = open(\"input.txt\").readlines()\n",
        "input = [x.rstrip() for x in input]"
      ],
      "metadata": {
        "id": "rQXspATZzPyA"
      },
      "execution_count": null,
      "outputs": []
    },
    {
      "cell_type": "code",
      "source": [
        "def snafu2int(n):\n",
        "  l = len(n)\n",
        "  ret = 0\n",
        "  for i,c in enumerate(n):\n",
        "    p = l-i-1\n",
        "    if c == \"2\" or c == \"1\" or c == \"0\":\n",
        "      v = int(c)\n",
        "    elif c == \"-\":\n",
        "      v = -1\n",
        "    else:\n",
        "      v = -2\n",
        "    ret += 5**p*v\n",
        "  return ret"
      ],
      "metadata": {
        "id": "B0_ibUSL2ANo"
      },
      "execution_count": null,
      "outputs": []
    },
    {
      "cell_type": "code",
      "source": [
        "def numberToBase(n, p, b):\n",
        "    digits = []\n",
        "    for _ in range(p):\n",
        "        digits.append(int(n % b))\n",
        "        n //= b\n",
        "    return digits[::-1]"
      ],
      "metadata": {
        "id": "H2vkBRkvtsMs"
      },
      "execution_count": null,
      "outputs": []
    },
    {
      "cell_type": "code",
      "source": [
        "import numpy as np\n",
        "import math"
      ],
      "metadata": {
        "id": "snMXoHs6uUU8"
      },
      "execution_count": null,
      "outputs": []
    },
    {
      "cell_type": "code",
      "source": [
        "def int2snafu(n):\n",
        "  p = int(math.log(n*2,5))\n",
        "  l = np.array([3] + [0]*p)\n",
        "  b = math.ceil((5**p)/2)\n",
        "  r = np.array(numberToBase(n-b,p+1,5))\n",
        "  return \"\".join([\"=-012\"[x] for x in l+r])"
      ],
      "metadata": {
        "id": "p6y2dqg9LZN8"
      },
      "execution_count": null,
      "outputs": []
    },
    {
      "cell_type": "code",
      "source": [
        "total = 0\n",
        "for num in input:\n",
        "  total += snafu2int(num)\n",
        "int2snafu(total)"
      ],
      "metadata": {
        "colab": {
          "base_uri": "https://localhost:8080/",
          "height": 35
        },
        "id": "awb52I21y17a",
        "outputId": "6b8b4fe3-c735-4664-beb6-c2749fd3c7fe"
      },
      "execution_count": null,
      "outputs": [
        {
          "output_type": "execute_result",
          "data": {
            "text/plain": [
              "'2-0-020-1==1021=--01'"
            ],
            "application/vnd.google.colaboratory.intrinsic+json": {
              "type": "string"
            }
          },
          "metadata": {},
          "execution_count": 33
        }
      ]
    }
  ]
}