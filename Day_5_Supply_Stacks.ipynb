{
  "nbformat": 4,
  "nbformat_minor": 0,
  "metadata": {
    "colab": {
      "provenance": [],
      "authorship_tag": "ABX9TyM0JyaFAPQthxTUv9QnhCB2",
      "include_colab_link": true
    },
    "kernelspec": {
      "name": "python3",
      "display_name": "Python 3"
    },
    "language_info": {
      "name": "python"
    }
  },
  "cells": [
    {
      "cell_type": "markdown",
      "metadata": {
        "id": "view-in-github",
        "colab_type": "text"
      },
      "source": [
        "<a href=\"https://colab.research.google.com/github/elichen/aoc2022/blob/main/Day_5_Supply_Stacks.ipynb\" target=\"_parent\"><img src=\"https://colab.research.google.com/assets/colab-badge.svg\" alt=\"Open In Colab\"/></a>"
      ]
    },
    {
      "cell_type": "code",
      "execution_count": null,
      "metadata": {
        "id": "CpX6aGQKO_2-"
      },
      "outputs": [],
      "source": [
        "with open('input.txt', 'r') as f:\n",
        "  lines = f.readlines()"
      ]
    },
    {
      "cell_type": "code",
      "source": [
        "# lines = '''    [D]\n",
        "# [N] [C]\n",
        "# [Z] [M] [P]\n",
        "#  1   2   3\n",
        "\n",
        "# move 1 from 2 to 1\n",
        "# move 3 from 1 to 3\n",
        "# move 2 from 2 to 1\n",
        "# move 1 from 1 to 2'''\n",
        "# lines = lines.split('\\n')"
      ],
      "metadata": {
        "id": "gZxc4GN0RNpa"
      },
      "execution_count": null,
      "outputs": []
    },
    {
      "cell_type": "code",
      "source": [
        "num_stacks = len(lines[0].strip('\\n'))//4+1\n",
        "num_stacks"
      ],
      "metadata": {
        "colab": {
          "base_uri": "https://localhost:8080/"
        },
        "id": "dZuXpEwdRZ0H",
        "outputId": "38d37ec9-4e22-476c-f269-978691c5c21f"
      },
      "execution_count": null,
      "outputs": [
        {
          "output_type": "execute_result",
          "data": {
            "text/plain": [
              "9"
            ]
          },
          "metadata": {},
          "execution_count": 268
        }
      ]
    },
    {
      "cell_type": "code",
      "source": [
        "i = 0\n",
        "stacks = [[] for _ in range(num_stacks)]\n",
        "end_token = \" \".join([f' {x+1} ' for x in range(num_stacks)])\n",
        "while not lines[i].startswith(end_token):\n",
        "  line = lines[i]\n",
        "  for j in range(num_stacks):\n",
        "    c = line[j*4+1]\n",
        "    if c.strip():\n",
        "      stacks[j].insert(0,line[j*4+1])\n",
        "  i += 1\n",
        "i += 2"
      ],
      "metadata": {
        "id": "F5PmtXlRU64J"
      },
      "execution_count": null,
      "outputs": []
    },
    {
      "cell_type": "code",
      "source": [
        "for row_i in range(i,len(lines)):\n",
        "  line = lines[row_i]\n",
        "  _, num, _, src, _, dst = line.split()\n",
        "  num,src,dst = list(map(int,[num,src,dst]))\n",
        "  # print(num,src,dst)\n",
        "  crates = stacks[src-1][-num:][::-1]\n",
        "  stacks[dst-1] += crates\n",
        "  del stacks[src-1][-num:]\n",
        "  # print(stacks)"
      ],
      "metadata": {
        "id": "qyzzUUh2UdiN"
      },
      "execution_count": null,
      "outputs": []
    },
    {
      "cell_type": "code",
      "source": [
        "\"\".join([x[-1] for x in stacks])"
      ],
      "metadata": {
        "colab": {
          "base_uri": "https://localhost:8080/",
          "height": 35
        },
        "id": "2uxxsU2CedlZ",
        "outputId": "f40b08fb-8b51-416d-dd4f-4043eeadcd85"
      },
      "execution_count": null,
      "outputs": [
        {
          "output_type": "execute_result",
          "data": {
            "text/plain": [
              "'NTWZZWHFV'"
            ],
            "application/vnd.google.colaboratory.intrinsic+json": {
              "type": "string"
            }
          },
          "metadata": {},
          "execution_count": 271
        }
      ]
    },
    {
      "cell_type": "code",
      "source": [
        "lines[:20]"
      ],
      "metadata": {
        "colab": {
          "base_uri": "https://localhost:8080/"
        },
        "id": "pw9k64a9eVQa",
        "outputId": "59427acf-b077-4622-fe6e-531f33409b65"
      },
      "execution_count": null,
      "outputs": [
        {
          "output_type": "execute_result",
          "data": {
            "text/plain": [
              "['                [M]     [W] [M]    \\n',\n",
              " '            [L] [Q] [S] [C] [R]    \\n',\n",
              " '            [Q] [F] [F] [T] [N] [S]\\n',\n",
              " '    [N]     [V] [V] [H] [L] [J] [D]\\n',\n",
              " '    [D] [D] [W] [P] [G] [R] [D] [F]\\n',\n",
              " '[T] [T] [M] [G] [G] [Q] [N] [W] [L]\\n',\n",
              " '[Z] [H] [F] [J] [D] [Z] [S] [H] [Q]\\n',\n",
              " '[B] [V] [B] [T] [W] [V] [Z] [Z] [M]\\n',\n",
              " ' 1   2   3   4   5   6   7   8   9 \\n',\n",
              " '\\n',\n",
              " 'move 1 from 7 to 4\\n',\n",
              " 'move 1 from 6 to 2\\n',\n",
              " 'move 5 from 9 to 4\\n',\n",
              " 'move 2 from 2 to 8\\n',\n",
              " 'move 2 from 2 to 6\\n',\n",
              " 'move 3 from 3 to 7\\n',\n",
              " 'move 3 from 7 to 1\\n',\n",
              " 'move 1 from 9 to 4\\n',\n",
              " 'move 4 from 7 to 3\\n',\n",
              " 'move 5 from 1 to 8\\n']"
            ]
          },
          "metadata": {},
          "execution_count": 272
        }
      ]
    },
    {
      "cell_type": "code",
      "source": [
        "i = 0\n",
        "stacks = [[] for _ in range(num_stacks)]\n",
        "end_token = \" \".join([f' {x+1} ' for x in range(num_stacks)])\n",
        "while not lines[i].startswith(end_token):\n",
        "  line = lines[i]\n",
        "  for j in range(num_stacks):\n",
        "    c = line[j*4+1]\n",
        "    if c.strip():\n",
        "      stacks[j].insert(0,line[j*4+1])\n",
        "  i += 1\n",
        "i += 2"
      ],
      "metadata": {
        "id": "6Js48apkf2xR"
      },
      "execution_count": null,
      "outputs": []
    },
    {
      "cell_type": "code",
      "source": [
        "for row_i in range(i,len(lines)):\n",
        "  line = lines[row_i]\n",
        "  _, num, _, src, _, dst = line.split()\n",
        "  num,src,dst = list(map(int,[num,src,dst]))\n",
        "  # print(num,src,dst)\n",
        "  crates = stacks[src-1][-num:]\n",
        "  stacks[dst-1] += crates\n",
        "  del stacks[src-1][-num:]\n",
        "  # print(stacks)"
      ],
      "metadata": {
        "id": "q7d78wAIf35P"
      },
      "execution_count": null,
      "outputs": []
    },
    {
      "cell_type": "code",
      "source": [
        "\"\".join([x[-1] for x in stacks])"
      ],
      "metadata": {
        "colab": {
          "base_uri": "https://localhost:8080/",
          "height": 35
        },
        "id": "V-Dfss1Lf6R4",
        "outputId": "f846e839-0ad6-4747-9566-2e8f4fa90074"
      },
      "execution_count": null,
      "outputs": [
        {
          "output_type": "execute_result",
          "data": {
            "text/plain": [
              "'BRZGFVBTJ'"
            ],
            "application/vnd.google.colaboratory.intrinsic+json": {
              "type": "string"
            }
          },
          "metadata": {},
          "execution_count": 275
        }
      ]
    },
    {
      "cell_type": "code",
      "source": [],
      "metadata": {
        "id": "YN9ng0OUf-ZG"
      },
      "execution_count": null,
      "outputs": []
    }
  ]
}