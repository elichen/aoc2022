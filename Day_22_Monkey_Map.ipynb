{
  "nbformat": 4,
  "nbformat_minor": 0,
  "metadata": {
    "colab": {
      "provenance": [],
      "authorship_tag": "ABX9TyNIAdQkNtnyF/4b367bewhz",
      "include_colab_link": true
    },
    "kernelspec": {
      "name": "python3",
      "display_name": "Python 3"
    },
    "language_info": {
      "name": "python"
    }
  },
  "cells": [
    {
      "cell_type": "markdown",
      "metadata": {
        "id": "view-in-github",
        "colab_type": "text"
      },
      "source": [
        "<a href=\"https://colab.research.google.com/github/elichen/aoc2022/blob/main/Day_22_Monkey_Map.ipynb\" target=\"_parent\"><img src=\"https://colab.research.google.com/assets/colab-badge.svg\" alt=\"Open In Colab\"/></a>"
      ]
    },
    {
      "cell_type": "code",
      "execution_count": null,
      "metadata": {
        "id": "tD6eJJEvAR4T"
      },
      "outputs": [],
      "source": [
        "input = '''        ...#\n",
        "        .#..\n",
        "        #...\n",
        "        ....\n",
        "...#.......#\n",
        "........#...\n",
        "..#....#....\n",
        "..........#.\n",
        "        ...#....\n",
        "        .....#..\n",
        "        .#......\n",
        "        ......#.\n",
        "\n",
        "10R5L5R10L4R5L5'''\n",
        "input = input.split('\\n')"
      ]
    },
    {
      "cell_type": "code",
      "source": [
        "input = open(\"input.txt\").readlines()\n",
        "input = [x.rstrip() for x in input]"
      ],
      "metadata": {
        "id": "GMRO3j-Vucu5"
      },
      "execution_count": null,
      "outputs": []
    },
    {
      "cell_type": "code",
      "source": [
        "import numpy as np\n",
        "np.set_printoptions(edgeitems=30, linewidth=100000,\n",
        "    formatter=dict(float=lambda x: \"%.3g\" % x))"
      ],
      "metadata": {
        "id": "a_BfpyURe3lC"
      },
      "execution_count": null,
      "outputs": []
    },
    {
      "cell_type": "code",
      "source": [
        "h,w = 0,0\n",
        "for line in input:\n",
        "  if line == \"\": break\n",
        "  w = max(w,len(line))\n",
        "  h += 1\n",
        "h,w"
      ],
      "metadata": {
        "colab": {
          "base_uri": "https://localhost:8080/"
        },
        "id": "kS6rwSN3f5D6",
        "outputId": "91143835-f059-4097-b894-b95f2bb3db16"
      },
      "execution_count": null,
      "outputs": [
        {
          "output_type": "execute_result",
          "data": {
            "text/plain": [
              "(200, 150)"
            ]
          },
          "metadata": {},
          "execution_count": 24
        }
      ]
    },
    {
      "cell_type": "code",
      "source": [
        "map = np.zeros((h,w))\n",
        "for i,line in enumerate(input):\n",
        "  if line == \"\": break\n",
        "  for j,c in enumerate(line):\n",
        "    if c == \".\":\n",
        "      map[i,j] = 1\n",
        "    if c == \"#\":\n",
        "      map[i,j] = 2"
      ],
      "metadata": {
        "id": "l8WMiCvdhoaO"
      },
      "execution_count": null,
      "outputs": []
    },
    {
      "cell_type": "code",
      "source": [
        "import re"
      ],
      "metadata": {
        "id": "CZ07Ltpylpaa"
      },
      "execution_count": null,
      "outputs": []
    },
    {
      "cell_type": "code",
      "source": [
        "def find_left(row):\n",
        "  for i in range(w):\n",
        "    if map[row,i] != 0:\n",
        "      return i\n",
        "def find_right(row):\n",
        "  for i in range(w-1,-1,-1):\n",
        "    if map[row,i] != 0:\n",
        "      return i\n",
        "def find_up(col):\n",
        "  for i in range(h):\n",
        "    if map[i,col] != 0:\n",
        "      return i\n",
        "def find_down(col):\n",
        "  for i in range(h-1,-1,-1):\n",
        "    if map[i,col] != 0:\n",
        "      return i"
      ],
      "metadata": {
        "id": "OsSlSQyenFrM"
      },
      "execution_count": null,
      "outputs": []
    },
    {
      "cell_type": "code",
      "source": [
        "path = input[-1]\n",
        "cur_x,cur_y = find_left(0),0\n",
        "facing = 0\n",
        "for op in re.findall(\"\\d+|\\w\", path):\n",
        "  if op == 'L':\n",
        "    facing = (facing-1)%4\n",
        "  elif op == 'R':\n",
        "    facing = (facing+1)%4\n",
        "  else:\n",
        "    steps = int(op)\n",
        "    while steps > 0:\n",
        "      if facing == 0:\n",
        "        next_x, next_y = cur_x+1,cur_y\n",
        "        if next_x >= w or map[next_y,next_x]==0: next_x = find_left(next_y)\n",
        "      if facing == 1:\n",
        "        next_x, next_y = cur_x,cur_y+1\n",
        "        if next_y >= h or map[next_y,next_x]==0: next_y = find_up(next_x)\n",
        "      if facing == 2:\n",
        "        next_x, next_y = cur_x-1,cur_y\n",
        "        if next_x < 0 or map[next_y,next_x]==0: next_x = find_right(next_y)\n",
        "      if facing == 3:\n",
        "        next_x, next_y = cur_x,cur_y-1\n",
        "        if next_y < 0 or map[next_y,next_x]==0: next_y = find_down(next_x)\n",
        "      if map[next_y, next_x] == 2:\n",
        "        break\n",
        "      cur_x,cur_y = next_x, next_y\n",
        "      steps -= 1\n",
        "  # print(op,cur_x,cur_y)\n",
        "4*(cur_x+1)+1000*(cur_y+1)+facing"
      ],
      "metadata": {
        "colab": {
          "base_uri": "https://localhost:8080/"
        },
        "id": "jQGihblHkCOn",
        "outputId": "16ffb0ad-8ae5-4ea1-a0fe-a56c3e1e4262"
      },
      "execution_count": null,
      "outputs": [
        {
          "output_type": "execute_result",
          "data": {
            "text/plain": [
              "117054"
            ]
          },
          "metadata": {},
          "execution_count": 28
        }
      ]
    },
    {
      "cell_type": "code",
      "source": [
        "import math\n",
        "from collections import deque"
      ],
      "metadata": {
        "id": "kY-ZW1LXPKvs"
      },
      "execution_count": null,
      "outputs": []
    },
    {
      "cell_type": "code",
      "source": [
        "face_size = math.gcd(w,h)"
      ],
      "metadata": {
        "id": "NTRfUIZrOrUw"
      },
      "execution_count": null,
      "outputs": []
    },
    {
      "cell_type": "code",
      "source": [
        "faces = {\n",
        "    'up': None,\n",
        "    'down': None,\n",
        "    'left': None,\n",
        "    'right': None,\n",
        "    'front': None,\n",
        "    'back': None\n",
        "}\n",
        "face_order = {\n",
        "  'up': ['right','back','left','front'],\n",
        "  'down': ['right','front','left','back'],\n",
        "  'left': ['back','down','front','up'],\n",
        "  'right': ['front','down','back','up'],\n",
        "  'front': ['left','down','right','up'],\n",
        "  'back': ['right','down','left','up'],\n",
        "}\n",
        "def adjust_face_order(face, from_facing, from_face):\n",
        "  to_facing = (from_facing+2)%4\n",
        "  to_i = face_order[face].index(from_face)\n",
        "  d = deque(face_order[face])\n",
        "  d.rotate(to_facing-to_i)\n",
        "  face_order[face] = list(d)\n",
        "\n",
        "def traverse_face(x,y,face):\n",
        "  if faces[face]: return\n",
        "  faces[face] = (x//face_size,y//face_size)\n",
        "  order = face_order[face]\n",
        "  for facing,next_face in enumerate(order):\n",
        "    if facing == 0:\n",
        "      next_x = (x//face_size+1)*face_size\n",
        "      if next_x < w and map[y,next_x] != 0:\n",
        "        adjust_face_order(next_face,facing,face)\n",
        "        traverse_face(next_x,y,next_face)\n",
        "    if facing == 1:\n",
        "      next_y = (y//face_size+1)*face_size\n",
        "      if next_y < h and map[next_y,x] != 0:\n",
        "        adjust_face_order(next_face,facing,face)\n",
        "        traverse_face(x,next_y,next_face)\n",
        "    if facing == 2:\n",
        "      next_x = (x//face_size-1)*face_size\n",
        "      if next_x >= 0 and map[y,next_x] != 0:\n",
        "        adjust_face_order(next_face,facing,face)\n",
        "        traverse_face(next_x,y,next_face)\n",
        "    if facing == 3:\n",
        "      next_y = (y//face_size-1)*face_size\n",
        "      if next_y >= 0 and map[next_y,x] != 0:\n",
        "        adjust_face_order(next_face,facing,face)\n",
        "        traverse_face(x,next_y,next_face)\n",
        "traverse_face(find_left(0),0,'up')\n",
        "faces,face_order"
      ],
      "metadata": {
        "colab": {
          "base_uri": "https://localhost:8080/"
        },
        "id": "LdQjjNOdPWGq",
        "outputId": "cc313d62-6c49-4e02-b0f0-8a1f9faf19b0"
      },
      "execution_count": null,
      "outputs": [
        {
          "output_type": "execute_result",
          "data": {
            "text/plain": [
              "({'up': (1, 0),\n",
              "  'down': (1, 2),\n",
              "  'left': (0, 2),\n",
              "  'right': (2, 0),\n",
              "  'front': (0, 3),\n",
              "  'back': (1, 1)},\n",
              " {'up': ['right', 'back', 'left', 'front'],\n",
              "  'down': ['right', 'front', 'left', 'back'],\n",
              "  'left': ['down', 'front', 'up', 'back'],\n",
              "  'right': ['down', 'back', 'up', 'front'],\n",
              "  'front': ['down', 'right', 'up', 'left'],\n",
              "  'back': ['right', 'down', 'left', 'up']})"
            ]
          },
          "metadata": {},
          "execution_count": 31
        }
      ]
    },
    {
      "cell_type": "code",
      "source": [
        "h,w"
      ],
      "metadata": {
        "colab": {
          "base_uri": "https://localhost:8080/"
        },
        "id": "ge8khUI5kddE",
        "outputId": "f552c1ee-b962-45a3-a3cd-8547017d296a"
      },
      "execution_count": null,
      "outputs": [
        {
          "output_type": "execute_result",
          "data": {
            "text/plain": [
              "(200, 150)"
            ]
          },
          "metadata": {},
          "execution_count": 32
        }
      ]
    },
    {
      "cell_type": "code",
      "source": [
        "region_to_face = {v: k for k, v in faces.items()}\n",
        "region_to_face"
      ],
      "metadata": {
        "colab": {
          "base_uri": "https://localhost:8080/"
        },
        "id": "nLuIp0iXYgKu",
        "outputId": "8891181e-6e2b-41a2-b854-5802cc226b9b"
      },
      "execution_count": null,
      "outputs": [
        {
          "output_type": "execute_result",
          "data": {
            "text/plain": [
              "{(1, 0): 'up',\n",
              " (1, 2): 'down',\n",
              " (0, 2): 'left',\n",
              " (2, 0): 'right',\n",
              " (0, 3): 'front',\n",
              " (1, 1): 'back'}"
            ]
          },
          "metadata": {},
          "execution_count": 33
        }
      ]
    },
    {
      "cell_type": "code",
      "source": [
        "def find_next(x,y,dir):\n",
        "  # print(\"find_next\",x,y,dir)\n",
        "  face = region_to_face[(x//face_size,y//face_size)]\n",
        "  next_face = face_order[face][dir]\n",
        "  next_dir = (face_order[next_face].index(face)+2)%4\n",
        "  rotation = next_dir-dir\n",
        "  if dir == 0: new_x, new_y = 0, y%face_size\n",
        "  if dir == 1: new_x, new_y = x%face_size, 0\n",
        "  if dir == 2: new_x, new_y = face_size-1, y%face_size\n",
        "  if dir == 3: new_x, new_y = x%face_size, face_size-1\n",
        "  if rotation == 1 or rotation == -3: new_x, new_y = face_size-1-new_y, new_x\n",
        "  if rotation == 2 or rotation == -2: new_x, new_y = face_size-1-new_x, face_size-1-new_y\n",
        "  if rotation == 3 or rotation == -1: new_x, new_y = new_y, face_size-1-new_x\n",
        "  # print(f\"old:{x,y,dir} new:{new_x+faces[next_face][0]*face_size, new_y+faces[next_face][1]*face_size, next_dir}\")\n",
        "  return new_x+faces[next_face][0]*face_size, new_y+faces[next_face][1]*face_size, next_dir"
      ],
      "metadata": {
        "id": "0qWdY0dBK9eM"
      },
      "execution_count": null,
      "outputs": []
    },
    {
      "cell_type": "code",
      "source": [
        "path = input[-1]\n",
        "cur_x,cur_y = find_left(0),0\n",
        "facing = 0\n",
        "for op in re.findall(\"\\d+|\\w\", path):\n",
        "  # print(op,cur_x,cur_y,facing)\n",
        "  if op == 'L':\n",
        "    facing = (facing-1)%4\n",
        "  elif op == 'R':\n",
        "    facing = (facing+1)%4\n",
        "  else:\n",
        "    steps = int(op)\n",
        "    while steps > 0:\n",
        "      if facing == 0:\n",
        "        next_x,next_y,new_facing = cur_x+1,cur_y,facing\n",
        "        if next_x >= w or map[next_y,next_x]==0: next_x,next_y,new_facing = find_next(cur_x,cur_y,facing)\n",
        "      if facing == 1:\n",
        "        next_x, next_y,new_facing = cur_x,cur_y+1,facing\n",
        "        if next_y >= h or map[next_y,next_x]==0: next_x,next_y,new_facing = find_next(cur_x,cur_y,facing)\n",
        "      if facing == 2:\n",
        "        next_x, next_y,new_facing = cur_x-1,cur_y,facing\n",
        "        if next_x < 0 or map[next_y,next_x]==0: next_x,next_y,new_facing = find_next(cur_x,cur_y,facing)\n",
        "      if facing == 3:\n",
        "        next_x, next_y,new_facing = cur_x,cur_y-1,facing\n",
        "        if next_y < 0 or map[next_y,next_x]==0: next_x,next_y,new_facing = find_next(cur_x,cur_y,facing)\n",
        "      if map[next_y, next_x] == 2:\n",
        "        break\n",
        "      cur_x,cur_y,facing = next_x,next_y,new_facing\n",
        "      steps -= 1\n",
        "      # print(steps,cur_x,cur_y,facing)\n",
        "4*(cur_x+1)+1000*(cur_y+1)+facing"
      ],
      "metadata": {
        "colab": {
          "base_uri": "https://localhost:8080/"
        },
        "id": "GUCXRfSodLfh",
        "outputId": "1d5b69b2-71c7-4c05-bba2-7cbc8f3c6395"
      },
      "execution_count": null,
      "outputs": [
        {
          "output_type": "execute_result",
          "data": {
            "text/plain": [
              "162096"
            ]
          },
          "metadata": {},
          "execution_count": 35
        }
      ]
    },
    {
      "cell_type": "code",
      "source": [],
      "metadata": {
        "id": "gNWah_KJK-wd"
      },
      "execution_count": null,
      "outputs": []
    }
  ]
}